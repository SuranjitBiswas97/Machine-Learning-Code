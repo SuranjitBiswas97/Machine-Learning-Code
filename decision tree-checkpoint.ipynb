{
 "cells": [
  {
   "cell_type": "code",
   "execution_count": null,
   "metadata": {},
   "outputs": [],
   "source": [
    "import numpy as np\n",
    "import pandas as pd\n",
    "import seaborn as sns\n",
    "import matplotlib.pyplot as plt\n",
    "from sklearn.linear_model import LinearRegression\n",
    "from pprint import pprint"
   ]
  },
  {
   "cell_type": "code",
   "execution_count": null,
   "metadata": {},
   "outputs": [],
   "source": [
    "data1=[[17,'F'],\n",
    "      [25,'F'],\n",
    "      [38,'F'],\n",
    "      [42,'D'],\n",
    "      [44,'D'],\n",
    "      [47,'C'],\n",
    "      [49,'C'],\n",
    "      [50,'B'],\n",
    "      [54,'B'],\n",
    "      [53,'B']]"
   ]
  },
  {
   "cell_type": "code",
   "execution_count": null,
   "metadata": {},
   "outputs": [],
   "source": [
    "data=[[10,'F'],[12,'F'],[22,'F'],[38,'F'],[40,'D'],\n",
    "        [44,'D'],[45,'C'],[48,'C'],[51,'C+'],[54,'C+'],\n",
    "        [55,'B-'],[58,'B-'],[59,'B-'],[60,'B'],[63,'B'],\n",
    "        [66,'B+'],[68,'B+'],[71,'A-'],[74,'A-'],[77,'A'],\n",
    "        [78,'A'],[84,'A+'],[88,'A+'],[92,'A+']]"
   ]
  },
  {
   "cell_type": "code",
   "execution_count": null,
   "metadata": {},
   "outputs": [],
   "source": [
    "pprint(data)\n",
    "pprint(data1)"
   ]
  },
  {
   "cell_type": "code",
   "execution_count": null,
   "metadata": {},
   "outputs": [],
   "source": [
    "def count_class(rows):\n",
    "    counts = {}                                                      # a dictionary of label -> count.\n",
    "    for row in rows:\n",
    "        label = row[-1]\n",
    "        if label not in counts:\n",
    "            counts[label] = 0\n",
    "        counts[label] += 1\n",
    "    return counts\n",
    "\n",
    "\n",
    "def is_numeric(value):                                              # Test if a value is numeric\n",
    "    return isinstance(value, int) or isinstance(value, float)\n",
    "\n",
    "\n",
    "def entropy(rows):\n",
    "    classes=count_class_freq(rows)\n",
    "    impurity = 0\n",
    "    for c in classes:\n",
    "        prob_of_c = classes[c] / float(len(rows))\n",
    "        impurity -= prob_of_c*  log(prob_of_c, 2)  #2 base log.\n",
    "    return impurity\n",
    "\n",
    "\n",
    "def gini(rows):                                                     # Calculate the Gini Impurity for a list of rows\n",
    "    classes=count_class(rows)\n",
    "    impurity = 1\n",
    "    for c in classes:\n",
    "        prob_of_c = classes[c] / float(len(rows))\n",
    "        impurity -= prob_of_c**2\n",
    "    return impurity\n",
    "\n",
    "\n",
    "\n",
    "def info_gain(left, right, current_uncertainty):                    # Calculate Information Gain\n",
    "    p = float(len(left)) / (len(left) + len(right))\n",
    "    return current_uncertainty - p * gini(left) - (1 - p) * gini(right)\n"
   ]
  },
  {
   "cell_type": "code",
   "execution_count": null,
   "metadata": {},
   "outputs": [],
   "source": [
    "print(count_class(data))"
   ]
  },
  {
   "cell_type": "code",
   "execution_count": null,
   "metadata": {},
   "outputs": [],
   "source": [
    "def split_data(data,root):\n",
    "    lt=[]\n",
    "    rt=[]\n",
    "    for row in data:\n",
    "        v=row[0]\n",
    "        if v<=root:\n",
    "            lt.append(row)\n",
    "        else:\n",
    "            rt.append(row)\n",
    "    return lt,rt"
   ]
  },
  {
   "cell_type": "code",
   "execution_count": null,
   "metadata": {},
   "outputs": [],
   "source": [
    "lt,rt=split_data(data, 25)\n",
    "print(lt)\n",
    "print(rt)"
   ]
  },
  {
   "cell_type": "code",
   "execution_count": null,
   "metadata": {},
   "outputs": [],
   "source": [
    "r1=gini(lt)\n",
    "r2=gini(rt)\n",
    "print(r1,r2)"
   ]
  },
  {
   "cell_type": "code",
   "execution_count": null,
   "metadata": {},
   "outputs": [],
   "source": [
    "ct=gini(data)\n",
    "print(ct)"
   ]
  },
  {
   "cell_type": "code",
   "execution_count": null,
   "metadata": {},
   "outputs": [],
   "source": [
    "ig=info_gain(lt,rt,ct)\n",
    "print(ig)"
   ]
  }
 ],
 "metadata": {
  "kernelspec": {
   "display_name": "Python 3",
   "language": "python",
   "name": "python3"
  },
  "language_info": {
   "codemirror_mode": {
    "name": "ipython",
    "version": 3
   },
   "file_extension": ".py",
   "mimetype": "text/x-python",
   "name": "python",
   "nbconvert_exporter": "python",
   "pygments_lexer": "ipython3",
   "version": "3.7.1"
  }
 },
 "nbformat": 4,
 "nbformat_minor": 2
}
