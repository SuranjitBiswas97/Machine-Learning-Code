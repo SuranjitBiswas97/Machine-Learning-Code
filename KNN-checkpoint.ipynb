{
 "cells": [
  {
   "cell_type": "code",
   "execution_count": 72,
   "metadata": {},
   "outputs": [],
   "source": [
    "import numpy as np\n",
    "from sklearn.model_selection import train_test_split-             \n",
    "from sklearn import datasets\n",
    "from collections import Counter"
   ]
  },
  {
   "cell_type": "code",
   "execution_count": 73,
   "metadata": {},
   "outputs": [],
   "source": [
    "iris = datasets.load_iris() \n",
    "X = iris.data\n",
    "y = iris.target\n",
    "names = iris.target_names"
   ]
  },
  {
   "cell_type": "code",
   "execution_count": 74,
   "metadata": {},
   "outputs": [
    {
     "name": "stdout",
     "output_type": "stream",
     "text": [
      "[[5.1 3.5 1.4 0.2]\n",
      " [4.9 3.  1.4 0.2]\n",
      " [4.7 3.2 1.3 0.2]\n",
      " [4.6 3.1 1.5 0.2]\n",
      " [5.  3.6 1.4 0.2]\n",
      " [5.4 3.9 1.7 0.4]\n",
      " [4.6 3.4 1.4 0.3]\n",
      " [5.  3.4 1.5 0.2]\n",
      " [4.4 2.9 1.4 0.2]\n",
      " [4.9 3.1 1.5 0.1]]\n",
      "[0 0 0 0 0 0 0 0 0 0 0 0 0 0 0 0 0 0 0 0 0 0 0 0 0 0 0 0 0 0]\n",
      "['setosa' 'versicolor' 'virginica']\n"
     ]
    }
   ],
   "source": [
    "print(X[:10])\n",
    "print(y[:30])\n",
    "print(names)"
   ]
  },
  {
   "cell_type": "code",
   "execution_count": 75,
   "metadata": {},
   "outputs": [],
   "source": [
    "x_train,x_test,y_train,y_test=train_test_split(X,y,test_size=0.4)"
   ]
  },
  {
   "cell_type": "code",
   "execution_count": 76,
   "metadata": {},
   "outputs": [
    {
     "name": "stdout",
     "output_type": "stream",
     "text": [
      "90\n",
      "60\n",
      "90\n",
      "60\n"
     ]
    }
   ],
   "source": [
    "print(len(x_train))\n",
    "print(len(x_test))\n",
    "print(len(y_train))\n",
    "print(len(y_test))\n",
    "#print(x_test[:10])"
   ]
  },
  {
   "cell_type": "code",
   "execution_count": 77,
   "metadata": {},
   "outputs": [],
   "source": [
    "def euclidean(x, x2):\n",
    "    sum=0\n",
    "    for ix,ix2 in zip(x,x2):\n",
    "        sum+=(ix-ix2)**2\n",
    "    return np.sqrt(sum)"
   ]
  },
  {
   "cell_type": "code",
   "execution_count": 78,
   "metadata": {},
   "outputs": [],
   "source": [
    "#euclidean([0,0], [3,4])"
   ]
  },
  {
   "cell_type": "code",
   "execution_count": 79,
   "metadata": {},
   "outputs": [],
   "source": [
    "xt=[5]"
   ]
  },
  {
   "cell_type": "code",
   "execution_count": 80,
   "metadata": {},
   "outputs": [],
   "source": [
    "dist={}\n",
    "for i, x in enumerate(x_train):\n",
    "    ed=euclidean(x, xt)\n",
    "    dist[i]=ed\n"
   ]
  },
  {
   "cell_type": "code",
   "execution_count": 81,
   "metadata": {},
   "outputs": [],
   "source": [
    "#print(dist)"
   ]
  },
  {
   "cell_type": "code",
   "execution_count": 82,
   "metadata": {},
   "outputs": [],
   "source": [
    "sorted_d = sorted(dist.items(), key=lambda kv: kv[1])"
   ]
  },
  {
   "cell_type": "code",
   "execution_count": 83,
   "metadata": {
    "scrolled": true
   },
   "outputs": [
    {
     "name": "stdout",
     "output_type": "stream",
     "text": [
      "[(82, 0.5477225575051662), (30, 0.6403124237432853), (35, 0.6708203932499371), (70, 0.6708203932499374), (73, 0.8000000000000007), (14, 0.8544003745317535), (59, 0.8660254037844387), (79, 0.871779788708135), (71, 0.8831760866327848), (32, 0.9165151389911682), (50, 0.9539392014169459), (34, 1.009950493836208), (19, 1.0344080432788603), (8, 1.0583005244258363), (77, 1.0630145812734653), (36, 1.0816653826391966), (16, 1.1224972160321829), (7, 1.1269427669584644), (44, 1.2247448713915892), (1, 1.2409673645990857), (2, 1.244989959798873), (49, 1.30384048104053), (24, 1.3114877048604), (28, 1.319090595827292), (31, 1.3228756555322954), (69, 1.322875655532296), (5, 1.3601470508735445), (75, 1.392838827718412), (86, 1.445683229480096), (25, 1.5132745950421556), (18, 1.5165750888103102), (88, 1.5684387141358123), (10, 1.57797338380595), (76, 1.6186414056238652), (61, 1.7492855684535902), (22, 1.7691806012954128), (81, 1.774823934929885), (37, 1.791647286716892), (67, 1.8000000000000005), (56, 1.8165902124584952), (62, 1.8574175621006712), (0, 1.8708286933869704), (23, 1.8920887928424504), (65, 1.9339079605813723), (33, 1.9773719933285192), (72, 2.012461179749811), (29, 2.0445048300260873), (26, 2.0904544960366866), (9, 2.238302928559939), (45, 2.2934689882359436), (55, 2.3108440016582685), (60, 2.3366642891095846), (53, 2.4020824298928627), (41, 2.428991560298224), (51, 2.541653005427767), (13, 2.6720778431774774), (87, 2.7092434368288134), (66, 2.7892651361962706), (17, 2.7982137159266447), (54, 2.8618176042508368), (4, 2.891366458960192), (64, 2.924038303442689), (57, 2.9410882339705484), (74, 2.947880594596735), (78, 2.9495762407505253), (11, 2.99833287011299), (27, 3.014962686336267), (42, 3.024896692450835), (83, 3.0397368307141326), (85, 3.0495901363953815), (89, 3.057776970284131), (3, 3.0870698080866266), (43, 3.093541659651604), (21, 3.1128764832546763), (80, 3.1937438845342627), (48, 3.2093613071762426), (20, 3.241913015489466), (12, 3.2434549480453714), (52, 3.2710854467592254), (38, 3.277193921634788), (84, 3.289376840679706), (68, 3.318132004607412), (47, 3.336165463522456), (6, 3.4942810419312296), (63, 3.5171010790137944), (15, 3.5411862419251547), (40, 3.646916505762094), (39, 3.683748091278773), (46, 3.7603191353926335), (58, 3.8535697735995393)]\n"
     ]
    }
   ],
   "source": [
    "print(sorted_d)"
   ]
  },
  {
   "cell_type": "code",
   "execution_count": 84,
   "metadata": {},
   "outputs": [
    {
     "name": "stdout",
     "output_type": "stream",
     "text": [
      "[82, 30, 35, 70, 73, 14, 59, 79, 71, 32, 50, 34, 19, 8, 77, 36, 16, 7, 44, 1, 2, 49, 24, 28, 31, 69, 5, 75, 86, 25, 18, 88, 10, 76, 61, 22, 81, 37, 67, 56, 62, 0, 23, 65, 33, 72, 29, 26, 9, 45, 55, 60, 53, 41, 51, 13, 87, 66, 17, 54, 4, 64, 57, 74, 78, 11, 27, 42, 83, 85, 89, 3, 43, 21, 80, 48, 20, 12, 52, 38, 84, 68, 47, 6, 63, 15, 40, 39, 46, 58]\n"
     ]
    }
   ],
   "source": [
    "k=90\n",
    "neighbors=[]\n",
    "for i in range(k):\n",
    "    neighbors.append(sorted_d[i][0])\n",
    "print(neighbors)"
   ]
  },
  {
   "cell_type": "code",
   "execution_count": 85,
   "metadata": {},
   "outputs": [
    {
     "name": "stdout",
     "output_type": "stream",
     "text": [
      "[1, 1, 1, 1, 1, 1, 1, 1, 1, 1, 1, 1, 1, 1, 1, 1, 1, 1, 2, 2, 2, 2, 1, 1, 1, 1, 1, 1, 2, 2, 1, 1, 2, 1, 2, 2, 2, 2, 1, 1, 2, 2, 2, 1, 1, 2, 2, 2, 2, 2, 2, 2, 2, 2, 2, 0, 0, 2, 0, 0, 0, 0, 0, 0, 0, 0, 0, 0, 0, 0, 2, 0, 0, 0, 0, 0, 0, 0, 0, 0, 0, 2, 0, 0, 2, 0, 2, 2, 2, 2]\n"
     ]
    }
   ],
   "source": [
    "classes=[ y_train[i] for i in neighbors]\n",
    "print(classes)"
   ]
  },
  {
   "cell_type": "code",
   "execution_count": 86,
   "metadata": {},
   "outputs": [
    {
     "name": "stdout",
     "output_type": "stream",
     "text": [
      "Counter({2: 32, 1: 31, 0: 27})\n"
     ]
    }
   ],
   "source": [
    "count=Counter(classes)\n",
    "print(count)"
   ]
  },
  {
   "cell_type": "code",
   "execution_count": 87,
   "metadata": {},
   "outputs": [
    {
     "name": "stdout",
     "output_type": "stream",
     "text": [
      "keys= [1, 2, 0]\n",
      "values= [31, 32, 27]\n"
     ]
    }
   ],
   "source": [
    "keys= list( count.keys() )\n",
    "print('keys=', keys)\n",
    "values=list( count.values() )\n",
    "print('values=',values)"
   ]
  },
  {
   "cell_type": "code",
   "execution_count": 88,
   "metadata": {},
   "outputs": [
    {
     "name": "stdout",
     "output_type": "stream",
     "text": [
      "index of max value= 1\n",
      "predict class= 2\n"
     ]
    }
   ],
   "source": [
    "index_of_max_values=values.index(max(values)) \n",
    "print('index of max value=', index_of_max_values)\n",
    "y_hat=keys[index_of_max_values]\n",
    "print('predict class=',y_hat)"
   ]
  },
  {
   "cell_type": "code",
   "execution_count": null,
   "metadata": {},
   "outputs": [],
   "source": []
  },
  {
   "cell_type": "code",
   "execution_count": null,
   "metadata": {},
   "outputs": [],
   "source": []
  }
 ],
 "metadata": {
  "kernelspec": {
   "display_name": "Python 3",
   "language": "python",
   "name": "python3"
  },
  "language_info": {
   "codemirror_mode": {
    "name": "ipython",
    "version": 3
   },
   "file_extension": ".py",
   "mimetype": "text/x-python",
   "name": "python",
   "nbconvert_exporter": "python",
   "pygments_lexer": "ipython3",
   "version": "3.7.1"
  }
 },
 "nbformat": 4,
 "nbformat_minor": 2
}
