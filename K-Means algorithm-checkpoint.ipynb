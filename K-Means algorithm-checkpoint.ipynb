{
 "cells": [
  {
   "cell_type": "code",
   "execution_count": 1,
   "metadata": {},
   "outputs": [],
   "source": [
    "import numpy as np\n",
    "import matplotlib.pyplot as plt \n",
    "from pprint import pprint\n",
    "from sklearn import datasets\n",
    "from sklearn.metrics import accuracy_score"
   ]
  },
  {
   "cell_type": "code",
   "execution_count": 2,
   "metadata": {},
   "outputs": [
    {
     "name": "stdout",
     "output_type": "stream",
     "text": [
      "[[5.1 3.5 1.4 0.2]\n",
      " [4.9 3.  1.4 0.2]\n",
      " [4.7 3.2 1.3 0.2]\n",
      " [4.6 3.1 1.5 0.2]\n",
      " [5.  3.6 1.4 0.2]]\n",
      "[0 0 0 0 0 0 0 0 0 0 0 0 0 0 0 0 0 0 0 0]\n"
     ]
    }
   ],
   "source": [
    "iris =  datasets.load_iris() \n",
    "x = iris.data \n",
    "y = iris.target\n",
    "print(x[:5])\n",
    "print(y[:20])"
   ]
  },
  {
   "cell_type": "code",
   "execution_count": 3,
   "metadata": {},
   "outputs": [
    {
     "name": "stdout",
     "output_type": "stream",
     "text": [
      "[0.2 0.2 0.2 0.2 0.2 0.4 0.3 0.2 0.2 0.1 0.2 0.2 0.1 0.1 0.2 0.4 0.4 0.3\n",
      " 0.3 0.3 0.2 0.4 0.2 0.5 0.2 0.2 0.4 0.2 0.2 0.2 0.2 0.4 0.1 0.2 0.2 0.2\n",
      " 0.2 0.1 0.2 0.2 0.3 0.3 0.2 0.6 0.4 0.3 0.2 0.2 0.2 0.2 1.4 1.5 1.5 1.3\n",
      " 1.5 1.3 1.6 1.  1.3 1.4 1.  1.5 1.  1.4 1.3 1.4 1.5 1.  1.5 1.1 1.8 1.3\n",
      " 1.5 1.2 1.3 1.4 1.4 1.7 1.5 1.  1.1 1.  1.2 1.6 1.5 1.6 1.5 1.3 1.3 1.3\n",
      " 1.2 1.4 1.2 1.  1.3 1.2 1.3 1.3 1.1 1.3 2.5 1.9 2.1 1.8 2.2 2.1 1.7 1.8\n",
      " 1.8 2.5 2.  1.9 2.1 2.  2.4 2.3 1.8 2.2 2.3 1.5 2.3 2.  2.  1.8 2.1 1.8\n",
      " 1.8 1.8 2.1 1.6 1.9 2.  2.2 1.5 1.4 2.3 2.4 1.8 1.8 2.1 2.4 2.3 1.9 2.3\n",
      " 2.5 2.3 1.9 2.  2.3 1.8]\n"
     ]
    }
   ],
   "source": [
    "#print(x[:,0])\n",
    "#print(x[:,1])\n",
    "#print(x[:,2])\n",
    "print(x[:,3])"
   ]
  },
  {
   "cell_type": "code",
   "execution_count": 4,
   "metadata": {},
   "outputs": [],
   "source": [
    "#plt.scatter(x[:,0],x[:,1],marker='*', c=y)\n",
    "#plt.show()"
   ]
  },
  {
   "cell_type": "code",
   "execution_count": null,
   "metadata": {},
   "outputs": [],
   "source": [
    "#plt.scatter(x[:,2],x[:,3],marker='*', c=y) \n",
    "#plt.show()"
   ]
  },
  {
   "cell_type": "code",
   "execution_count": null,
   "metadata": {},
   "outputs": [],
   "source": [
    "plt.scatter(x[:,0],x[:,1],marker='*', c=y)\n",
    "plt.scatter(x[:,2],x[:,3],marker='*', c=y) \n",
    "plt.show()"
   ]
  },
  {
   "cell_type": "code",
   "execution_count": null,
   "metadata": {},
   "outputs": [],
   "source": [
    "def get_random_centroids(k):\n",
    "    centroids={}\n",
    "    while True:\n",
    "        ri=np.random.choice(range(len(x)), k)\n",
    "        print(ri)\n",
    "        if len(set(ri))==k:  #found distinct k indexes.\n",
    "            for i in range(k):\n",
    "                centroids[i]=x[ri[i]]\n",
    "            break\n",
    "\n",
    "    return centroids"
   ]
  },
  {
   "cell_type": "code",
   "execution_count": null,
   "metadata": {},
   "outputs": [],
   "source": [
    "k = 3\n",
    "centroids=get_random_centroids(k)\n",
    "#print(centroids.keys())\n",
    "print(centroids)"
   ]
  },
  {
   "cell_type": "code",
   "execution_count": null,
   "metadata": {},
   "outputs": [],
   "source": [
    "def e_dist(x1, x2):\n",
    "    return np.sqrt( (x1[0]-x2[0])**2 +  (x1[1]-x2[1])**2)\n",
    "\n",
    "def e_dist(x1, x2):\n",
    "    return np.linalg.norm(x1-x2)"
   ]
  },
  {
   "cell_type": "code",
   "execution_count": null,
   "metadata": {},
   "outputs": [],
   "source": [
    "e_dist(np.array([0,0]), np.array([3,4]))"
   ]
  },
  {
   "cell_type": "code",
   "execution_count": null,
   "metadata": {},
   "outputs": [],
   "source": [
    "print(centroids.items())"
   ]
  },
  {
   "cell_type": "code",
   "execution_count": null,
   "metadata": {},
   "outputs": [],
   "source": [
    "xx=[8,9,5,3]\n",
    "dd=[e_dist(xx,v) for k,v in centroids.items() ]\n",
    "print(dd)\n",
    "\n",
    "closest=dd.index( min(dd) )\n",
    "print(closest)"
   ]
  },
  {
   "cell_type": "code",
   "execution_count": null,
   "metadata": {},
   "outputs": [],
   "source": [
    "for xx in x:                                        #for each sample\n",
    "    dists=[e_dist(xx,v) for k,v in centroids.items() ]\n",
    "    closest=dists.index( min(dists) )\n",
    "    mc=list(centroids.values())[closest]\n",
    "    print('xx =',xx,' closest centroid =',mc)\n",
    "    "
   ]
  },
  {
   "cell_type": "code",
   "execution_count": null,
   "metadata": {},
   "outputs": [],
   "source": [
    "print(centroids)"
   ]
  },
  {
   "cell_type": "markdown",
   "metadata": {},
   "source": [
    "# Finding Good K using elbow method"
   ]
  },
  {
   "cell_type": "code",
   "execution_count": null,
   "metadata": {},
   "outputs": [],
   "source": [
    "nitr=200\n",
    "sses={}\n",
    "for k in range(1,13):                                                       #trying for different k value.\n",
    "    \n",
    "    centroids=get_random_centroids(k)\n",
    "    old_centroids={}\n",
    "    \n",
    "    for i in range(nitr):\n",
    "        clusters={}\n",
    "        for ik,iv in centroids.items():\n",
    "            clusters[ik]=[]\n",
    "\n",
    "        print('centroids: ',centroids)\n",
    "        \n",
    "        for xx in x:\n",
    "            dists=[e_dist(xx,v) for k,v in centroids.items() ] #k distance from k centroid.\n",
    "            closest=dists.index( min(dists) )\n",
    "            clusters[closest].append(xx)\n",
    "\n",
    "            \n",
    "        for ik in range(k):\n",
    "            old_centroids[ik]=centroids[ik].copy()\n",
    "            \n",
    "            \n",
    "        #update centroids.\n",
    "        nc={}\n",
    "        for ik in range(k):\n",
    "            avg_c=np.array(clusters[ik]).mean(axis=0)\n",
    "            nc[ik]=avg_c  #average.\n",
    "            centroids[ik]=avg_c\n",
    "            \n",
    "            \n",
    "\n",
    "        #checking centroids update.\n",
    "        nupdate=0\n",
    "        for ik in range(k):\n",
    "            if e_dist( centroids[ik], old_centroids[ik] ) > 0:\n",
    "                nupdate+=1\n",
    "        if nupdate==0:\n",
    "            print('NO FURTHER UPDATE')\n",
    "            break\n",
    "            \n",
    "            \n",
    "    sse=0               # Sum of Squared Error\n",
    "    for cluster,centroid in zip(clusters.values() ,centroids.values()):\n",
    "        for xx in cluster:\n",
    "            d=e_dist(xx, centroid)\n",
    "            sse+=d*d\n",
    "    print('k=',k, 'sse=',sse)\n",
    "    sses[k]=sse\n",
    "    \n",
    "    "
   ]
  },
  {
   "cell_type": "code",
   "execution_count": null,
   "metadata": {},
   "outputs": [],
   "source": [
    "sses"
   ]
  },
  {
   "cell_type": "code",
   "execution_count": null,
   "metadata": {},
   "outputs": [],
   "source": [
    "ks=[i+1 for i in range(len(sses.values()))]\n",
    "print(ks)"
   ]
  },
  {
   "cell_type": "code",
   "execution_count": null,
   "metadata": {},
   "outputs": [],
   "source": [
    "plt.plot(ks, sses.values())\n",
    "plt.title('K vs SSE')\n",
    "plt.show()"
   ]
  }
 ],
 "metadata": {
  "kernelspec": {
   "display_name": "Python 3",
   "language": "python",
   "name": "python3"
  },
  "language_info": {
   "codemirror_mode": {
    "name": "ipython",
    "version": 3
   },
   "file_extension": ".py",
   "mimetype": "text/x-python",
   "name": "python",
   "nbconvert_exporter": "python",
   "pygments_lexer": "ipython3",
   "version": "3.7.1"
  }
 },
 "nbformat": 4,
 "nbformat_minor": 2
}
