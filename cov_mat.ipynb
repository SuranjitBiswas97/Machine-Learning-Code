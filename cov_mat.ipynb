{
 "cells": [
  {
   "cell_type": "code",
   "execution_count": 9,
   "metadata": {},
   "outputs": [],
   "source": [
    "import numpy as np"
   ]
  },
  {
   "cell_type": "code",
   "execution_count": 10,
   "metadata": {},
   "outputs": [
    {
     "name": "stdout",
     "output_type": "stream",
     "text": [
      "[14, 16, 6, 10, 8, 15, 15, 8, 8, 15] [5, 5, 0, 1, 2, 6, 7, 2, 1, 4]\n"
     ]
    }
   ],
   "source": [
    "x=[14,16,6,10,8,15,15,8,8,15]\n",
    "y=[5,5,0,1,2,6,7,2,1,4]\n",
    "print(x,y)"
   ]
  },
  {
   "cell_type": "code",
   "execution_count": 11,
   "metadata": {},
   "outputs": [
    {
     "name": "stdout",
     "output_type": "stream",
     "text": [
      "11.5\n"
     ]
    }
   ],
   "source": [
    "xbar=sum(x)/(len(x))\n",
    "print(xbar)"
   ]
  },
  {
   "cell_type": "code",
   "execution_count": 12,
   "metadata": {},
   "outputs": [
    {
     "name": "stdout",
     "output_type": "stream",
     "text": [
      "3.3\n"
     ]
    }
   ],
   "source": [
    "ybar=sum(y)/(len(y))\n",
    "print(ybar)"
   ]
  },
  {
   "cell_type": "code",
   "execution_count": 13,
   "metadata": {},
   "outputs": [
    {
     "name": "stdout",
     "output_type": "stream",
     "text": [
      "[2.5, 4.5, -5.5, -1.5, -3.5, 3.5, 3.5, -3.5, -3.5, 3.5]\n"
     ]
    }
   ],
   "source": [
    "arr=[]\n",
    "for i in range(len(x)):\n",
    "    arr.append(x[i]-xbar)\n",
    "print(arr)"
   ]
  },
  {
   "cell_type": "code",
   "execution_count": 14,
   "metadata": {},
   "outputs": [
    {
     "name": "stdout",
     "output_type": "stream",
     "text": [
      "[1.7000000000000002, 1.7000000000000002, -3.3, -2.3, -1.2999999999999998, 2.7, 3.7, -1.2999999999999998, -2.3, 0.7000000000000002]\n"
     ]
    }
   ],
   "source": [
    "arr1=[]\n",
    "for i in range(len(y)):\n",
    "    arr1.append(y[i]-ybar)\n",
    "print(arr1)"
   ]
  },
  {
   "cell_type": "code",
   "execution_count": 18,
   "metadata": {},
   "outputs": [
    {
     "name": "stdout",
     "output_type": "stream",
     "text": [
      "[ 6.25 20.25 30.25  2.25 12.25 12.25 12.25 12.25 12.25 12.25]\n",
      "14.722222222222221\n"
     ]
    }
   ],
   "source": [
    "x1=np.square(arr)\n",
    "print(x1)\n",
    "cov_x=sum(x1)/(len(x)-1)\n",
    "print(cov_x)\n"
   ]
  },
  {
   "cell_type": "code",
   "execution_count": 21,
   "metadata": {},
   "outputs": [
    {
     "name": "stdout",
     "output_type": "stream",
     "text": [
      "[ 2.89  2.89 10.89  5.29  1.69  7.29 13.69  1.69  5.29  0.49]\n",
      "5.788888888888888\n"
     ]
    }
   ],
   "source": [
    "y1=np.square(arr1)\n",
    "print(y1)\n",
    "cov_y=sum(y1)/(len(x)-1)\n",
    "print(cov_y)"
   ]
  },
  {
   "cell_type": "code",
   "execution_count": 22,
   "metadata": {},
   "outputs": [
    {
     "name": "stdout",
     "output_type": "stream",
     "text": [
      "[ 4.25  7.65 18.15  3.45  4.55  9.45 12.95  4.55  8.05  2.45]\n",
      "8.38888888888889\n"
     ]
    }
   ],
   "source": [
    "xy=np.multiply(arr,arr1)\n",
    "print(xy)\n",
    "cov_xy=sum(xy)/(len(x)-1)\n",
    "print(cov_xy)"
   ]
  },
  {
   "cell_type": "code",
   "execution_count": 30,
   "metadata": {},
   "outputs": [
    {
     "name": "stdout",
     "output_type": "stream",
     "text": [
      "[[14.722222222222221, 8.38888888888889], [8.38888888888889, 5.788888888888888]]\n",
      "[ 0.75163174 19.75947937] [[ 0.51479058 -0.85731596]\n",
      " [-0.85731596 -0.51479058]]\n"
     ]
    }
   ],
   "source": [
    "cov_M=[[cov_x,cov_xy],\n",
    "    [cov_xy,cov_y]]\n",
    "print(cov_M)\n",
    "e,v=np.linalg.eigh(cov_M)\n",
    "print(e,v)"
   ]
  },
  {
   "cell_type": "code",
   "execution_count": null,
   "metadata": {},
   "outputs": [],
   "source": []
  },
  {
   "cell_type": "code",
   "execution_count": null,
   "metadata": {},
   "outputs": [],
   "source": []
  }
 ],
 "metadata": {
  "kernelspec": {
   "display_name": "Python 3",
   "language": "python",
   "name": "python3"
  },
  "language_info": {
   "codemirror_mode": {
    "name": "ipython",
    "version": 3
   },
   "file_extension": ".py",
   "mimetype": "text/x-python",
   "name": "python",
   "nbconvert_exporter": "python",
   "pygments_lexer": "ipython3",
   "version": "3.7.1"
  }
 },
 "nbformat": 4,
 "nbformat_minor": 2
}
