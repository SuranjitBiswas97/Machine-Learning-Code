{
 "cells": [
  {
   "cell_type": "code",
   "execution_count": 11,
   "metadata": {},
   "outputs": [
    {
     "name": "stdout",
     "output_type": "stream",
     "text": [
      "[14, 16, 6, 10, 8, 15, 15, 8, 8, 15]\n",
      "[5, 5, 0, 1, 2, 6, 7, 2, 1, 4]\n"
     ]
    }
   ],
   "source": [
    "import numpy as np\n",
    "x = [14,16,6,10,8,15,15,8,8,15]\n",
    "y = [5,5,0,1,2,6,7,2,1,4]\n",
    "print(x)\n",
    "print(y)"
   ]
  },
  {
   "cell_type": "code",
   "execution_count": 12,
   "metadata": {},
   "outputs": [
    {
     "name": "stdout",
     "output_type": "stream",
     "text": [
      "115 33\n"
     ]
    }
   ],
   "source": [
    "xx = 0\n",
    "yy = 0\n",
    "for i in x:\n",
    "    xx = xx+i;\n",
    "for i in y:\n",
    "    yy = yy+i;\n",
    "    \n",
    "print(xx,yy)"
   ]
  },
  {
   "cell_type": "code",
   "execution_count": 13,
   "metadata": {},
   "outputs": [
    {
     "name": "stdout",
     "output_type": "stream",
     "text": [
      "11.5 3.3\n"
     ]
    }
   ],
   "source": [
    "xx = xx/len(x)\n",
    "yy = yy/len(y)\n",
    "print(xx,yy)"
   ]
  },
  {
   "cell_type": "code",
   "execution_count": 14,
   "metadata": {},
   "outputs": [
    {
     "name": "stdout",
     "output_type": "stream",
     "text": [
      "[2.5, 4.5, -5.5, -1.5, -3.5, 3.5, 3.5, -3.5, -3.5, 3.5]\n",
      "[1.7000000000000002, 1.7000000000000002, -3.3, -2.3, -1.2999999999999998, 2.7, 3.7, -1.2999999999999998, -2.3, 0.7000000000000002]\n"
     ]
    }
   ],
   "source": [
    "a=[]\n",
    "b=[]\n",
    "for i in x:\n",
    "    a.append(i-xx)\n",
    "for i in y:\n",
    "    b.append(i-yy)\n",
    "print(a)\n",
    "print(b)"
   ]
  },
  {
   "cell_type": "code",
   "execution_count": 15,
   "metadata": {},
   "outputs": [
    {
     "name": "stdout",
     "output_type": "stream",
     "text": [
      "[[ 2.5  4.5 -5.5 -1.5 -3.5  3.5  3.5 -3.5 -3.5  3.5]\n",
      " [ 1.7  1.7 -3.3 -2.3 -1.3  2.7  3.7 -1.3 -2.3  0.7]]\n"
     ]
    }
   ],
   "source": [
    "mat = np.stack((a,b))\n",
    "print(mat)"
   ]
  },
  {
   "cell_type": "code",
   "execution_count": 16,
   "metadata": {},
   "outputs": [
    {
     "name": "stdout",
     "output_type": "stream",
     "text": [
      "[[ 2.5  1.7]\n",
      " [ 4.5  1.7]\n",
      " [-5.5 -3.3]\n",
      " [-1.5 -2.3]\n",
      " [-3.5 -1.3]\n",
      " [ 3.5  2.7]\n",
      " [ 3.5  3.7]\n",
      " [-3.5 -1.3]\n",
      " [-3.5 -2.3]\n",
      " [ 3.5  0.7]]\n"
     ]
    }
   ],
   "source": [
    "tmat = np.column_stack((a,b))\n",
    "print(tmat)"
   ]
  },
  {
   "cell_type": "code",
   "execution_count": 17,
   "metadata": {},
   "outputs": [
    {
     "name": "stdout",
     "output_type": "stream",
     "text": [
      "[[132.5, 75.5], [75.5, 52.099999999999994]]\n"
     ]
    }
   ],
   "source": [
    "fmat = [[sum(i*j for i,j in zip(mat_row,tmat_col)) for tmat_col in zip(*tmat)] for mat_row in mat]\n",
    "print(fmat)"
   ]
  },
  {
   "cell_type": "code",
   "execution_count": 18,
   "metadata": {},
   "outputs": [
    {
     "name": "stdout",
     "output_type": "stream",
     "text": [
      "[[13.25  7.55]\n",
      " [ 7.55  5.21]]\n"
     ]
    }
   ],
   "source": [
    "fmat  = np.array(fmat)\n",
    "fmat=fmat/10\n",
    "print(fmat)"
   ]
  },
  {
   "cell_type": "code",
   "execution_count": 19,
   "metadata": {},
   "outputs": [
    {
     "name": "stdout",
     "output_type": "stream",
     "text": [
      "[ 0.67646857 17.78353143]\n",
      "[[ 0.51479058 -0.85731596]\n",
      " [-0.85731596 -0.51479058]]\n"
     ]
    }
   ],
   "source": [
    "e,v = np.linalg.eigh(fmat)\n",
    "print(e)\n",
    "print(v)"
   ]
  },
  {
   "cell_type": "code",
   "execution_count": 20,
   "metadata": {},
   "outputs": [
    {
     "name": "stdout",
     "output_type": "stream",
     "text": [
      "[ 0.51479058 -0.85731596]\n",
      "[-0.85731596 -0.51479058]\n"
     ]
    }
   ],
   "source": [
    "print(v[0])\n",
    "print(v[1])"
   ]
  },
  {
   "cell_type": "code",
   "execution_count": 21,
   "metadata": {},
   "outputs": [],
   "source": [
    "pc1= [];\n",
    "pc2= [];\n",
    "for i in range(len(tmat)):\n",
    "    pc1.append(np.dot(tmat[i],v[1]))\n",
    "    pc2.append(np.dot(tmat[i],v[0]))\n"
   ]
  },
  {
   "cell_type": "code",
   "execution_count": 22,
   "metadata": {},
   "outputs": [
    {
     "name": "stdout",
     "output_type": "stream",
     "text": [
      "[-3.0184338907551638, -4.733065816665585, 6.414046705142807, 2.4699922748707075, 3.6698336223298718, -4.3905404321616315, -4.905331010612889, 3.6698336223298718, 4.184624200781129, -3.3609592752591175]\n",
      "[-0.17046069089571514, 0.8591204660067993, -0.0022055037297197266, 1.1996408471200986, -0.6872562727376266, -0.5129860753996685, -1.3703020383548794, -0.6872562727376266, 0.17005969021758416, 1.2016458505107526]\n"
     ]
    }
   ],
   "source": [
    "print(pc1)\n",
    "print(pc2)\n"
   ]
  },
  {
   "cell_type": "code",
   "execution_count": null,
   "metadata": {},
   "outputs": [],
   "source": []
  }
 ],
 "metadata": {
  "kernelspec": {
   "display_name": "Python 3",
   "language": "python",
   "name": "python3"
  },
  "language_info": {
   "codemirror_mode": {
    "name": "ipython",
    "version": 3
   },
   "file_extension": ".py",
   "mimetype": "text/x-python",
   "name": "python",
   "nbconvert_exporter": "python",
   "pygments_lexer": "ipython3",
   "version": "3.7.1"
  }
 },
 "nbformat": 4,
 "nbformat_minor": 2
}
