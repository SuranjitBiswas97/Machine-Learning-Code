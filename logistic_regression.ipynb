{
 "cells": [
  {
   "cell_type": "code",
   "execution_count": 114,
   "metadata": {},
   "outputs": [],
   "source": [
    "import numpy as np"
   ]
  },
  {
   "cell_type": "code",
   "execution_count": 115,
   "metadata": {},
   "outputs": [],
   "source": [
    "x=[[1,10],[1,20],[1,30],[1,40],[1,50],[1,60],[1,70]];"
   ]
  },
  {
   "cell_type": "code",
   "execution_count": 116,
   "metadata": {},
   "outputs": [],
   "source": [
    "x=np.array(x)\n",
    "lr=0.1"
   ]
  },
  {
   "cell_type": "code",
   "execution_count": 117,
   "metadata": {},
   "outputs": [],
   "source": [
    "y=[0,0,0,1,1,1,1];\n"
   ]
  },
  {
   "cell_type": "code",
   "execution_count": 118,
   "metadata": {},
   "outputs": [],
   "source": [
    "y=np.array(y);"
   ]
  },
  {
   "cell_type": "code",
   "execution_count": 119,
   "metadata": {},
   "outputs": [],
   "source": [
    "def linearRegression(x,theta):\n",
    "    #theta=np.array(theta);\n",
    "    temp=np.transpose(x);\n",
    "    return np.dot(x,theta)\n"
   ]
  },
  {
   "cell_type": "code",
   "execution_count": 120,
   "metadata": {},
   "outputs": [],
   "source": [
    "def sigmoid(z):\n",
    "    return 1/(1+np.exp(-z))\n"
   ]
  },
  {
   "cell_type": "code",
   "execution_count": 121,
   "metadata": {},
   "outputs": [],
   "source": [
    "sig=sigmoid(ans)\n",
    "sig=np.array(sig)"
   ]
  },
  {
   "cell_type": "code",
   "execution_count": 122,
   "metadata": {},
   "outputs": [
    {
     "name": "stdout",
     "output_type": "stream",
     "text": [
      "0.6055324871947114\n"
     ]
    }
   ],
   "source": [
    "print(sig)"
   ]
  },
  {
   "cell_type": "code",
   "execution_count": 131,
   "metadata": {},
   "outputs": [],
   "source": [
    "def gradient(y,predict,x):\n",
    "    temp1=0\n",
    "    row=0\n",
    "    ans=[0, 0]\n",
    "    col=0\n",
    "    gdt=0\n",
    "    while row<7:\n",
    "        gdt=predict[row]-y[row]\n",
    "        gdt=gdt*x[row][col]\n",
    "        ans[0]=ans[0]+gdt\n",
    "        row+=1\n",
    "    ans[0]=ans[0]/7\n",
    "    col=1\n",
    "    row=0\n",
    "    gdt=0\n",
    "    while row<7:\n",
    "        gdt=predict[row]-y[row]\n",
    "        gdt=gdt*x[row][col]\n",
    "        ans[1]=ans[1]+gdt\n",
    "        row+=1\n",
    "    ans[1]=ans[1]/7\n",
    "    return np.array(ans)\n",
    "\n"
   ]
  },
  {
   "cell_type": "code",
   "execution_count": null,
   "metadata": {},
   "outputs": [],
   "source": []
  },
  {
   "cell_type": "code",
   "execution_count": 132,
   "metadata": {},
   "outputs": [],
   "source": [
    "epoch=50000\n",
    "lr=0.1\n",
    "theta=np.array([0,0])\n",
    "for i in range(epoch):\n",
    "    z=linearRegression(x,theta)\n",
    "    predict=sigmoid(z)\n",
    "    gd=gradient(y,predict,x)\n",
    "    theta=theta-lr*gd"
   ]
  },
  {
   "cell_type": "code",
   "execution_count": 133,
   "metadata": {},
   "outputs": [
    {
     "name": "stdout",
     "output_type": "stream",
     "text": [
      "[-26.26891615   0.75474599]\n"
     ]
    }
   ],
   "source": [
    "print(theta)"
   ]
  },
  {
   "cell_type": "code",
   "execution_count": 134,
   "metadata": {},
   "outputs": [],
   "source": [
    "z=linearRegression(x,theta)\n",
    "pd=sigmoid(z)"
   ]
  },
  {
   "cell_type": "code",
   "execution_count": 135,
   "metadata": {},
   "outputs": [
    {
     "name": "stdout",
     "output_type": "stream",
     "text": [
      "[7.40243936e-09 1.40342419e-05 2.59185393e-02 9.80562525e-01\n",
      " 9.99989545e-01 9.99999994e-01 1.00000000e+00]\n"
     ]
    }
   ],
   "source": [
    "print(pd)"
   ]
  },
  {
   "cell_type": "code",
   "execution_count": 136,
   "metadata": {},
   "outputs": [
    {
     "name": "stdout",
     "output_type": "stream",
     "text": [
      "7.402439360430773e-09\n",
      "1.4034241889659154e-05\n",
      "0.02591853925070782\n",
      "0.9805625246088356\n",
      "0.9999895446197189\n",
      "0.9999999944852709\n",
      "0.9999999999970912\n"
     ]
    }
   ],
   "source": [
    "for t in pd:\n",
    "    print(t)"
   ]
  },
  {
   "cell_type": "code",
   "execution_count": null,
   "metadata": {},
   "outputs": [],
   "source": []
  }
 ],
 "metadata": {
  "kernelspec": {
   "display_name": "Python 3",
   "language": "python",
   "name": "python3"
  },
  "language_info": {
   "codemirror_mode": {
    "name": "ipython",
    "version": 3
   },
   "file_extension": ".py",
   "mimetype": "text/x-python",
   "name": "python",
   "nbconvert_exporter": "python",
   "pygments_lexer": "ipython3",
   "version": "3.7.1"
  }
 },
 "nbformat": 4,
 "nbformat_minor": 2
}
