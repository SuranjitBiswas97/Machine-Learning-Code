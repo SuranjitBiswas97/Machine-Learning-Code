{
 "cells": [
  {
   "cell_type": "code",
   "execution_count": 1,
   "metadata": {},
   "outputs": [],
   "source": [
    "import numpy as np\n",
    "import matplotlib.pyplot as plt \n",
    "from pprint import pprint\n",
    "from sklearn import datasets\n",
    "from sklearn.metrics import accuracy_score"
   ]
  },
  {
   "cell_type": "code",
   "execution_count": 2,
   "metadata": {},
   "outputs": [
    {
     "name": "stdout",
     "output_type": "stream",
     "text": [
      "[[5.1 3.5 1.4 0.2]\n",
      " [4.9 3.  1.4 0.2]\n",
      " [4.7 3.2 1.3 0.2]\n",
      " [4.6 3.1 1.5 0.2]\n",
      " [5.  3.6 1.4 0.2]]\n",
      "[0 0 0 0 0 0 0 0 0 0 0 0 0 0 0 0 0 0 0 0]\n"
     ]
    }
   ],
   "source": [
    "iris =  datasets.load_iris() \n",
    "x = iris.data \n",
    "y = iris.target\n",
    "print(x[:5])\n",
    "print(y[:20])"
   ]
  },
  {
   "cell_type": "code",
   "execution_count": 3,
   "metadata": {},
   "outputs": [
    {
     "name": "stdout",
     "output_type": "stream",
     "text": [
      "[0.2 0.2 0.2 0.2 0.2 0.4 0.3 0.2 0.2 0.1 0.2 0.2 0.1 0.1 0.2 0.4 0.4 0.3\n",
      " 0.3 0.3 0.2 0.4 0.2 0.5 0.2 0.2 0.4 0.2 0.2 0.2 0.2 0.4 0.1 0.2 0.2 0.2\n",
      " 0.2 0.1 0.2 0.2 0.3 0.3 0.2 0.6 0.4 0.3 0.2 0.2 0.2 0.2 1.4 1.5 1.5 1.3\n",
      " 1.5 1.3 1.6 1.  1.3 1.4 1.  1.5 1.  1.4 1.3 1.4 1.5 1.  1.5 1.1 1.8 1.3\n",
      " 1.5 1.2 1.3 1.4 1.4 1.7 1.5 1.  1.1 1.  1.2 1.6 1.5 1.6 1.5 1.3 1.3 1.3\n",
      " 1.2 1.4 1.2 1.  1.3 1.2 1.3 1.3 1.1 1.3 2.5 1.9 2.1 1.8 2.2 2.1 1.7 1.8\n",
      " 1.8 2.5 2.  1.9 2.1 2.  2.4 2.3 1.8 2.2 2.3 1.5 2.3 2.  2.  1.8 2.1 1.8\n",
      " 1.8 1.8 2.1 1.6 1.9 2.  2.2 1.5 1.4 2.3 2.4 1.8 1.8 2.1 2.4 2.3 1.9 2.3\n",
      " 2.5 2.3 1.9 2.  2.3 1.8]\n"
     ]
    }
   ],
   "source": [
    "#print(x[:,0])\n",
    "#print(x[:,1])\n",
    "#print(x[:,2])\n",
    "print(x[:,3])"
   ]
  },
  {
   "cell_type": "code",
   "execution_count": 4,
   "metadata": {},
   "outputs": [],
   "source": [
    "#plt.scatter(x[:,0],x[:,1],marker='*', c=y)\n",
    "#plt.show()"
   ]
  },
  {
   "cell_type": "code",
   "execution_count": 5,
   "metadata": {},
   "outputs": [],
   "source": [
    "#plt.scatter(x[:,2],x[:,3],marker='*', c=y) \n",
    "#plt.show()"
   ]
  },
  {
   "cell_type": "code",
   "execution_count": 6,
   "metadata": {},
   "outputs": [
    {
     "data": {
      "image/png": "[encoded data removed]",
      "text/plain": [
       "<Figure size 432x288 with 1 Axes>"
      ]
     },
     "metadata": {
      "needs_background": "light"
     },
     "output_type": "display_data"
    }
   ],
   "source": [
    "plt.scatter(x[:,0],x[:,1],marker='*', c=y)\n",
    "plt.scatter(x[:,2],x[:,3],marker='*', c=y) \n",
    "plt.show()"
   ]
  },
  {
   "cell_type": "code",
   "execution_count": 7,
   "metadata": {},
   "outputs": [],
   "source": [
    "def get_random_centroids(k):\n",
    "    centroids={}\n",
    "    while True:\n",
    "        ri=np.random.choice(range(len(x)), k)\n",
    "        print(ri)\n",
    "        if len(set(ri))==k:  #found distinct k indexes.\n",
    "            for i in range(k):\n",
    "                centroids[i]=x[ri[i]]\n",
    "            break\n",
    "\n",
    "    return centroids"
   ]
  },
  {
   "cell_type": "code",
   "execution_count": 8,
   "metadata": {},
   "outputs": [
    {
     "name": "stdout",
     "output_type": "stream",
     "text": [
      "[ 11  61 121]\n",
      "{0: array([4.8, 3.4, 1.6, 0.2]), 1: array([5.9, 3. , 4.2, 1.5]), 2: array([5.6, 2.8, 4.9, 2. ])}\n"
     ]
    }
   ],
   "source": [
    "k = 3\n",
    "centroids=get_random_centroids(k)\n",
    "#print(centroids.keys())\n",
    "print(centroids)"
   ]
  },
  {
   "cell_type": "code",
   "execution_count": 9,
   "metadata": {},
   "outputs": [],
   "source": [
    "def e_dist(x1, x2):\n",
    "    return np.sqrt( (x1[0]-x2[0])**2 +  (x1[1]-x2[1])**2)\n",
    "\n",
    "def e_dist(x1, x2):\n",
    "    return np.linalg.norm(x1-x2)"
   ]
  },
  {
   "cell_type": "code",
   "execution_count": 10,
   "metadata": {},
   "outputs": [
    {
     "data": {
      "text/plain": [
       "5.0"
      ]
     },
     "execution_count": 10,
     "metadata": {},
     "output_type": "execute_result"
    }
   ],
   "source": [
    "e_dist(np.array([0,0]), np.array([3,4]))"
   ]
  },
  {
   "cell_type": "code",
   "execution_count": 11,
   "metadata": {},
   "outputs": [
    {
     "name": "stdout",
     "output_type": "stream",
     "text": [
      "dict_items([(0, array([4.8, 3.4, 1.6, 0.2])), (1, array([5.9, 3. , 4.2, 1.5])), (2, array([5.6, 2.8, 4.9, 2. ]))])\n"
     ]
    }
   ],
   "source": [
    "print(centroids.items())"
   ]
  },
  {
   "cell_type": "code",
   "execution_count": 12,
   "metadata": {},
   "outputs": [
    {
     "name": "stdout",
     "output_type": "stream",
     "text": [
      "[7.810249675906654, 6.58027355054484, 6.723838189605696]\n",
      "1\n"
     ]
    }
   ],
   "source": [
    "xx=[8,9,5,3]\n",
    "dd=[e_dist(xx,v) for k,v in centroids.items() ]\n",
    "print(dd)\n",
    "\n",
    "closest=dd.index( min(dd) )\n",
    "print(closest)"
   ]
  },
  {
   "cell_type": "code",
   "execution_count": 13,
   "metadata": {},
   "outputs": [
    {
     "name": "stdout",
     "output_type": "stream",
     "text": [
      "xx = [5.1 3.5 1.4 0.2]  closest centroid = [4.8 3.4 1.6 0.2]\n",
      "xx = [4.9 3.  1.4 0.2]  closest centroid = [4.8 3.4 1.6 0.2]\n",
      "xx = [4.7 3.2 1.3 0.2]  closest centroid = [4.8 3.4 1.6 0.2]\n",
      "xx = [4.6 3.1 1.5 0.2]  closest centroid = [4.8 3.4 1.6 0.2]\n",
      "xx = [5.  3.6 1.4 0.2]  closest centroid = [4.8 3.4 1.6 0.2]\n",
      "xx = [5.4 3.9 1.7 0.4]  closest centroid = [4.8 3.4 1.6 0.2]\n",
      "xx = [4.6 3.4 1.4 0.3]  closest centroid = [4.8 3.4 1.6 0.2]\n",
      "xx = [5.  3.4 1.5 0.2]  closest centroid = [4.8 3.4 1.6 0.2]\n",
      "xx = [4.4 2.9 1.4 0.2]  closest centroid = [4.8 3.4 1.6 0.2]\n",
      "xx = [4.9 3.1 1.5 0.1]  closest centroid = [4.8 3.4 1.6 0.2]\n",
      "xx = [5.4 3.7 1.5 0.2]  closest centroid = [4.8 3.4 1.6 0.2]\n",
      "xx = [4.8 3.4 1.6 0.2]  closest centroid = [4.8 3.4 1.6 0.2]\n",
      "xx = [4.8 3.  1.4 0.1]  closest centroid = [4.8 3.4 1.6 0.2]\n",
      "xx = [4.3 3.  1.1 0.1]  closest centroid = [4.8 3.4 1.6 0.2]\n",
      "xx = [5.8 4.  1.2 0.2]  closest centroid = [4.8 3.4 1.6 0.2]\n",
      "xx = [5.7 4.4 1.5 0.4]  closest centroid = [4.8 3.4 1.6 0.2]\n",
      "xx = [5.4 3.9 1.3 0.4]  closest centroid = [4.8 3.4 1.6 0.2]\n",
      "xx = [5.1 3.5 1.4 0.3]  closest centroid = [4.8 3.4 1.6 0.2]\n",
      "xx = [5.7 3.8 1.7 0.3]  closest centroid = [4.8 3.4 1.6 0.2]\n",
      "xx = [5.1 3.8 1.5 0.3]  closest centroid = [4.8 3.4 1.6 0.2]\n",
      "xx = [5.4 3.4 1.7 0.2]  closest centroid = [4.8 3.4 1.6 0.2]\n",
      "xx = [5.1 3.7 1.5 0.4]  closest centroid = [4.8 3.4 1.6 0.2]\n",
      "xx = [4.6 3.6 1.  0.2]  closest centroid = [4.8 3.4 1.6 0.2]\n",
      "xx = [5.1 3.3 1.7 0.5]  closest centroid = [4.8 3.4 1.6 0.2]\n",
      "xx = [4.8 3.4 1.9 0.2]  closest centroid = [4.8 3.4 1.6 0.2]\n",
      "xx = [5.  3.  1.6 0.2]  closest centroid = [4.8 3.4 1.6 0.2]\n",
      "xx = [5.  3.4 1.6 0.4]  closest centroid = [4.8 3.4 1.6 0.2]\n",
      "xx = [5.2 3.5 1.5 0.2]  closest centroid = [4.8 3.4 1.6 0.2]\n",
      "xx = [5.2 3.4 1.4 0.2]  closest centroid = [4.8 3.4 1.6 0.2]\n",
      "xx = [4.7 3.2 1.6 0.2]  closest centroid = [4.8 3.4 1.6 0.2]\n",
      "xx = [4.8 3.1 1.6 0.2]  closest centroid = [4.8 3.4 1.6 0.2]\n",
      "xx = [5.4 3.4 1.5 0.4]  closest centroid = [4.8 3.4 1.6 0.2]\n",
      "xx = [5.2 4.1 1.5 0.1]  closest centroid = [4.8 3.4 1.6 0.2]\n",
      "xx = [5.5 4.2 1.4 0.2]  closest centroid = [4.8 3.4 1.6 0.2]\n",
      "xx = [4.9 3.1 1.5 0.2]  closest centroid = [4.8 3.4 1.6 0.2]\n",
      "xx = [5.  3.2 1.2 0.2]  closest centroid = [4.8 3.4 1.6 0.2]\n",
      "xx = [5.5 3.5 1.3 0.2]  closest centroid = [4.8 3.4 1.6 0.2]\n",
      "xx = [4.9 3.6 1.4 0.1]  closest centroid = [4.8 3.4 1.6 0.2]\n",
      "xx = [4.4 3.  1.3 0.2]  closest centroid = [4.8 3.4 1.6 0.2]\n",
      "xx = [5.1 3.4 1.5 0.2]  closest centroid = [4.8 3.4 1.6 0.2]\n",
      "xx = [5.  3.5 1.3 0.3]  closest centroid = [4.8 3.4 1.6 0.2]\n",
      "xx = [4.5 2.3 1.3 0.3]  closest centroid = [4.8 3.4 1.6 0.2]\n",
      "xx = [4.4 3.2 1.3 0.2]  closest centroid = [4.8 3.4 1.6 0.2]\n",
      "xx = [5.  3.5 1.6 0.6]  closest centroid = [4.8 3.4 1.6 0.2]\n",
      "xx = [5.1 3.8 1.9 0.4]  closest centroid = [4.8 3.4 1.6 0.2]\n",
      "xx = [4.8 3.  1.4 0.3]  closest centroid = [4.8 3.4 1.6 0.2]\n",
      "xx = [5.1 3.8 1.6 0.2]  closest centroid = [4.8 3.4 1.6 0.2]\n",
      "xx = [4.6 3.2 1.4 0.2]  closest centroid = [4.8 3.4 1.6 0.2]\n",
      "xx = [5.3 3.7 1.5 0.2]  closest centroid = [4.8 3.4 1.6 0.2]\n",
      "xx = [5.  3.3 1.4 0.2]  closest centroid = [4.8 3.4 1.6 0.2]\n",
      "xx = [7.  3.2 4.7 1.4]  closest centroid = [5.9 3.  4.2 1.5]\n",
      "xx = [6.4 3.2 4.5 1.5]  closest centroid = [5.9 3.  4.2 1.5]\n",
      "xx = [6.9 3.1 4.9 1.5]  closest centroid = [5.9 3.  4.2 1.5]\n",
      "xx = [5.5 2.3 4.  1.3]  closest centroid = [5.9 3.  4.2 1.5]\n",
      "xx = [6.5 2.8 4.6 1.5]  closest centroid = [5.9 3.  4.2 1.5]\n",
      "xx = [5.7 2.8 4.5 1.3]  closest centroid = [5.9 3.  4.2 1.5]\n",
      "xx = [6.3 3.3 4.7 1.6]  closest centroid = [5.9 3.  4.2 1.5]\n",
      "xx = [4.9 2.4 3.3 1. ]  closest centroid = [5.9 3.  4.2 1.5]\n",
      "xx = [6.6 2.9 4.6 1.3]  closest centroid = [5.9 3.  4.2 1.5]\n",
      "xx = [5.2 2.7 3.9 1.4]  closest centroid = [5.9 3.  4.2 1.5]\n",
      "xx = [5.  2.  3.5 1. ]  closest centroid = [5.9 3.  4.2 1.5]\n",
      "xx = [5.9 3.  4.2 1.5]  closest centroid = [5.9 3.  4.2 1.5]\n",
      "xx = [6.  2.2 4.  1. ]  closest centroid = [5.9 3.  4.2 1.5]\n",
      "xx = [6.1 2.9 4.7 1.4]  closest centroid = [5.9 3.  4.2 1.5]\n",
      "xx = [5.6 2.9 3.6 1.3]  closest centroid = [5.9 3.  4.2 1.5]\n",
      "xx = [6.7 3.1 4.4 1.4]  closest centroid = [5.9 3.  4.2 1.5]\n",
      "xx = [5.6 3.  4.5 1.5]  closest centroid = [5.9 3.  4.2 1.5]\n",
      "xx = [5.8 2.7 4.1 1. ]  closest centroid = [5.9 3.  4.2 1.5]\n",
      "xx = [6.2 2.2 4.5 1.5]  closest centroid = [5.9 3.  4.2 1.5]\n",
      "xx = [5.6 2.5 3.9 1.1]  closest centroid = [5.9 3.  4.2 1.5]\n",
      "xx = [5.9 3.2 4.8 1.8]  closest centroid = [5.6 2.8 4.9 2. ]\n",
      "xx = [6.1 2.8 4.  1.3]  closest centroid = [5.9 3.  4.2 1.5]\n",
      "xx = [6.3 2.5 4.9 1.5]  closest centroid = [5.6 2.8 4.9 2. ]\n",
      "xx = [6.1 2.8 4.7 1.2]  closest centroid = [5.9 3.  4.2 1.5]\n",
      "xx = [6.4 2.9 4.3 1.3]  closest centroid = [5.9 3.  4.2 1.5]\n",
      "xx = [6.6 3.  4.4 1.4]  closest centroid = [5.9 3.  4.2 1.5]\n",
      "xx = [6.8 2.8 4.8 1.4]  closest centroid = [5.9 3.  4.2 1.5]\n",
      "xx = [6.7 3.  5.  1.7]  closest centroid = [5.9 3.  4.2 1.5]\n",
      "xx = [6.  2.9 4.5 1.5]  closest centroid = [5.9 3.  4.2 1.5]\n",
      "xx = [5.7 2.6 3.5 1. ]  closest centroid = [5.9 3.  4.2 1.5]\n",
      "xx = [5.5 2.4 3.8 1.1]  closest centroid = [5.9 3.  4.2 1.5]\n",
      "xx = [5.5 2.4 3.7 1. ]  closest centroid = [5.9 3.  4.2 1.5]\n",
      "xx = [5.8 2.7 3.9 1.2]  closest centroid = [5.9 3.  4.2 1.5]\n",
      "xx = [6.  2.7 5.1 1.6]  closest centroid = [5.6 2.8 4.9 2. ]\n",
      "xx = [5.4 3.  4.5 1.5]  closest centroid = [5.9 3.  4.2 1.5]\n",
      "xx = [6.  3.4 4.5 1.6]  closest centroid = [5.9 3.  4.2 1.5]\n",
      "xx = [6.7 3.1 4.7 1.5]  closest centroid = [5.9 3.  4.2 1.5]\n",
      "xx = [6.3 2.3 4.4 1.3]  closest centroid = [5.9 3.  4.2 1.5]\n",
      "xx = [5.6 3.  4.1 1.3]  closest centroid = [5.9 3.  4.2 1.5]\n",
      "xx = [5.5 2.5 4.  1.3]  closest centroid = [5.9 3.  4.2 1.5]\n",
      "xx = [5.5 2.6 4.4 1.2]  closest centroid = [5.9 3.  4.2 1.5]\n",
      "xx = [6.1 3.  4.6 1.4]  closest centroid = [5.9 3.  4.2 1.5]\n",
      "xx = [5.8 2.6 4.  1.2]  closest centroid = [5.9 3.  4.2 1.5]\n",
      "xx = [5.  2.3 3.3 1. ]  closest centroid = [5.9 3.  4.2 1.5]\n",
      "xx = [5.6 2.7 4.2 1.3]  closest centroid = [5.9 3.  4.2 1.5]\n",
      "xx = [5.7 3.  4.2 1.2]  closest centroid = [5.9 3.  4.2 1.5]\n",
      "xx = [5.7 2.9 4.2 1.3]  closest centroid = [5.9 3.  4.2 1.5]\n",
      "xx = [6.2 2.9 4.3 1.3]  closest centroid = [5.9 3.  4.2 1.5]\n",
      "xx = [5.1 2.5 3.  1.1]  closest centroid = [5.9 3.  4.2 1.5]\n",
      "xx = [5.7 2.8 4.1 1.3]  closest centroid = [5.9 3.  4.2 1.5]\n",
      "xx = [6.3 3.3 6.  2.5]  closest centroid = [5.6 2.8 4.9 2. ]\n",
      "xx = [5.8 2.7 5.1 1.9]  closest centroid = [5.6 2.8 4.9 2. ]\n",
      "xx = [7.1 3.  5.9 2.1]  closest centroid = [5.6 2.8 4.9 2. ]\n",
      "xx = [6.3 2.9 5.6 1.8]  closest centroid = [5.6 2.8 4.9 2. ]\n",
      "xx = [6.5 3.  5.8 2.2]  closest centroid = [5.6 2.8 4.9 2. ]\n",
      "xx = [7.6 3.  6.6 2.1]  closest centroid = [5.6 2.8 4.9 2. ]\n",
      "xx = [4.9 2.5 4.5 1.7]  closest centroid = [5.6 2.8 4.9 2. ]\n",
      "xx = [7.3 2.9 6.3 1.8]  closest centroid = [5.6 2.8 4.9 2. ]\n",
      "xx = [6.7 2.5 5.8 1.8]  closest centroid = [5.6 2.8 4.9 2. ]\n",
      "xx = [7.2 3.6 6.1 2.5]  closest centroid = [5.6 2.8 4.9 2. ]\n",
      "xx = [6.5 3.2 5.1 2. ]  closest centroid = [5.6 2.8 4.9 2. ]\n",
      "xx = [6.4 2.7 5.3 1.9]  closest centroid = [5.6 2.8 4.9 2. ]\n",
      "xx = [6.8 3.  5.5 2.1]  closest centroid = [5.6 2.8 4.9 2. ]\n",
      "xx = [5.7 2.5 5.  2. ]  closest centroid = [5.6 2.8 4.9 2. ]\n",
      "xx = [5.8 2.8 5.1 2.4]  closest centroid = [5.6 2.8 4.9 2. ]\n",
      "xx = [6.4 3.2 5.3 2.3]  closest centroid = [5.6 2.8 4.9 2. ]\n",
      "xx = [6.5 3.  5.5 1.8]  closest centroid = [5.6 2.8 4.9 2. ]\n",
      "xx = [7.7 3.8 6.7 2.2]  closest centroid = [5.6 2.8 4.9 2. ]\n",
      "xx = [7.7 2.6 6.9 2.3]  closest centroid = [5.6 2.8 4.9 2. ]\n",
      "xx = [6.  2.2 5.  1.5]  closest centroid = [5.6 2.8 4.9 2. ]\n",
      "xx = [6.9 3.2 5.7 2.3]  closest centroid = [5.6 2.8 4.9 2. ]\n",
      "xx = [5.6 2.8 4.9 2. ]  closest centroid = [5.6 2.8 4.9 2. ]\n",
      "xx = [7.7 2.8 6.7 2. ]  closest centroid = [5.6 2.8 4.9 2. ]\n",
      "xx = [6.3 2.7 4.9 1.8]  closest centroid = [5.6 2.8 4.9 2. ]\n",
      "xx = [6.7 3.3 5.7 2.1]  closest centroid = [5.6 2.8 4.9 2. ]\n",
      "xx = [7.2 3.2 6.  1.8]  closest centroid = [5.6 2.8 4.9 2. ]\n",
      "xx = [6.2 2.8 4.8 1.8]  closest centroid = [5.6 2.8 4.9 2. ]\n",
      "xx = [6.1 3.  4.9 1.8]  closest centroid = [5.6 2.8 4.9 2. ]\n",
      "xx = [6.4 2.8 5.6 2.1]  closest centroid = [5.6 2.8 4.9 2. ]\n",
      "xx = [7.2 3.  5.8 1.6]  closest centroid = [5.6 2.8 4.9 2. ]\n",
      "xx = [7.4 2.8 6.1 1.9]  closest centroid = [5.6 2.8 4.9 2. ]\n",
      "xx = [7.9 3.8 6.4 2. ]  closest centroid = [5.6 2.8 4.9 2. ]\n",
      "xx = [6.4 2.8 5.6 2.2]  closest centroid = [5.6 2.8 4.9 2. ]\n",
      "xx = [6.3 2.8 5.1 1.5]  closest centroid = [5.6 2.8 4.9 2. ]\n",
      "xx = [6.1 2.6 5.6 1.4]  closest centroid = [5.6 2.8 4.9 2. ]\n",
      "xx = [7.7 3.  6.1 2.3]  closest centroid = [5.6 2.8 4.9 2. ]\n",
      "xx = [6.3 3.4 5.6 2.4]  closest centroid = [5.6 2.8 4.9 2. ]\n",
      "xx = [6.4 3.1 5.5 1.8]  closest centroid = [5.6 2.8 4.9 2. ]\n",
      "xx = [6.  3.  4.8 1.8]  closest centroid = [5.6 2.8 4.9 2. ]\n",
      "xx = [6.9 3.1 5.4 2.1]  closest centroid = [5.6 2.8 4.9 2. ]\n",
      "xx = [6.7 3.1 5.6 2.4]  closest centroid = [5.6 2.8 4.9 2. ]\n",
      "xx = [6.9 3.1 5.1 2.3]  closest centroid = [5.6 2.8 4.9 2. ]\n",
      "xx = [5.8 2.7 5.1 1.9]  closest centroid = [5.6 2.8 4.9 2. ]\n",
      "xx = [6.8 3.2 5.9 2.3]  closest centroid = [5.6 2.8 4.9 2. ]\n",
      "xx = [6.7 3.3 5.7 2.5]  closest centroid = [5.6 2.8 4.9 2. ]\n",
      "xx = [6.7 3.  5.2 2.3]  closest centroid = [5.6 2.8 4.9 2. ]\n",
      "xx = [6.3 2.5 5.  1.9]  closest centroid = [5.6 2.8 4.9 2. ]\n",
      "xx = [6.5 3.  5.2 2. ]  closest centroid = [5.6 2.8 4.9 2. ]\n",
      "xx = [6.2 3.4 5.4 2.3]  closest centroid = [5.6 2.8 4.9 2. ]\n",
      "xx = [5.9 3.  5.1 1.8]  closest centroid = [5.6 2.8 4.9 2. ]\n"
     ]
    }
   ],
   "source": [
    "for xx in x:                                        #for each sample\n",
    "    dists=[e_dist(xx,v) for k,v in centroids.items() ]\n",
    "    closest=dists.index( min(dists) )\n",
    "    mc=list(centroids.values())[closest]\n",
    "    print('xx =',xx,' closest centroid =',mc)\n",
    "    "
   ]
  },
  {
   "cell_type": "code",
   "execution_count": 14,
   "metadata": {},
   "outputs": [
    {
     "name": "stdout",
     "output_type": "stream",
     "text": [
      "{0: array([4.8, 3.4, 1.6, 0.2]), 1: array([5.9, 3. , 4.2, 1.5]), 2: array([5.6, 2.8, 4.9, 2. ])}\n"
     ]
    }
   ],
   "source": [
    "print(centroids)"
   ]
  },
  {
   "cell_type": "markdown",
   "metadata": {},
   "source": [
    "# Finding Good K using elbow method"
   ]
  },
  {
   "cell_type": "code",
   "execution_count": 15,
   "metadata": {},
   "outputs": [
    {
     "name": "stdout",
     "output_type": "stream",
     "text": [
      "[138]\n",
      "centroids:  {0: array([6. , 3. , 4.8, 1.8])}\n",
      "centroids:  {0: array([5.84333333, 3.05733333, 3.758     , 1.19933333])}\n",
      "NO FURTHER UPDATE\n",
      "k= 1 sse= 681.3706000000001\n",
      "[36 74]\n",
      "centroids:  {0: array([5.5, 3.5, 1.3, 0.2]), 1: array([6.4, 2.9, 4.3, 1.3])}\n",
      "centroids:  {0: array([5.006, 3.428, 1.462, 0.246]), 1: array([6.262, 2.872, 4.906, 1.676])}\n",
      "centroids:  {0: array([5.00576923, 3.39038462, 1.52692308, 0.27692308]), 1: array([6.2877551 , 2.88061224, 4.94183673, 1.68877551])}\n",
      "centroids:  {0: array([5.00566038, 3.36981132, 1.56037736, 0.29056604]), 1: array([6.30103093, 2.88659794, 4.95876289, 1.69587629])}\n",
      "NO FURTHER UPDATE\n",
      "k= 2 sse= 152.34795176035803\n",
      "[82 46 95]\n",
      "centroids:  {0: array([5.8, 2.7, 3.9, 1.2]), 1: array([5.1, 3.8, 1.6, 0.2]), 2: array([5.7, 3. , 4.2, 1.2])}\n",
      "centroids:  {0: array([5.58421053, 2.47368421, 3.81052632, 1.16315789]), 1: array([5.006, 3.428, 1.462, 0.246]), 2: array([6.42098765, 2.9654321 , 5.16296296, 1.7962963 ])}\n",
      "centroids:  {0: array([5.6       , 2.61935484, 4.00322581, 1.24193548]), 1: array([5.006, 3.428, 1.462, 0.246]), 2: array([6.55942029, 2.98550725, 5.3115942 , 1.87101449])}\n",
      "centroids:  {0: array([5.67222222, 2.67222222, 4.075     , 1.26388889]), 1: array([5.006, 3.428, 1.462, 0.246]), 2: array([6.59375  , 2.984375 , 5.3734375, 1.9078125])}\n",
      "centroids:  {0: array([5.7125, 2.6775, 4.1425, 1.295 ]), 1: array([5.006, 3.428, 1.462, 0.246]), 2: array([6.62833333, 3.00166667, 5.415     , 1.93      ])}\n",
      "centroids:  {0: array([5.78666667, 2.70222222, 4.19555556, 1.32222222]), 1: array([5.006, 3.428, 1.462, 0.246]), 2: array([6.65090909, 3.01090909, 5.48727273, 1.96545455])}\n",
      "centroids:  {0: array([5.81428571, 2.72653061, 4.24489796, 1.35102041]), 1: array([5.006, 3.428, 1.462, 0.246]), 2: array([6.69215686, 3.01176471, 5.54117647, 1.98823529])}\n",
      "centroids:  {0: array([5.82962963, 2.73148148, 4.31481481, 1.39259259]), 1: array([5.006, 3.428, 1.462, 0.246]), 2: array([6.76956522, 3.03695652, 5.6       , 2.00869565])}\n",
      "centroids:  {0: array([5.85438596, 2.74210526, 4.34561404, 1.40877193]), 1: array([5.006, 3.428, 1.462, 0.246]), 2: array([6.80232558, 3.04418605, 5.64883721, 2.03023256])}\n",
      "centroids:  {0: array([5.885     , 2.74      , 4.37666667, 1.41833333]), 1: array([5.006, 3.428, 1.462, 0.246]), 2: array([6.8275, 3.07  , 5.7   , 2.0625])}\n",
      "centroids:  {0: array([5.88360656, 2.74098361, 4.38852459, 1.43442623]), 1: array([5.006, 3.428, 1.462, 0.246]), 2: array([6.85384615, 3.07692308, 5.71538462, 2.05384615])}\n",
      "NO FURTHER UPDATE\n",
      "k= 3 sse= 78.85566582597723\n",
      "[54 90 87 45]\n",
      "centroids:  {0: array([6.5, 2.8, 4.6, 1.5]), 1: array([5.5, 2.6, 4.4, 1.2]), 2: array([6.3, 2.3, 4.4, 1.3]), 3: array([4.8, 3. , 1.4, 0.3])}\n",
      "centroids:  {0: array([6.58955224, 3.00597015, 5.3119403 , 1.8641791 ]), 1: array([5.50357143, 2.64642857, 4.02857143, 1.28928571]), 2: array([6.12, 2.34, 4.38, 1.32]), 3: array([5.006, 3.428, 1.462, 0.246])}\n",
      "centroids:  {0: array([6.63818182, 3.01636364, 5.48727273, 1.97454545]), 1: array([5.51111111, 2.67407407, 3.97777778, 1.24814815]), 2: array([6.23888889, 2.72777778, 4.52222222, 1.40555556]), 3: array([5.006, 3.428, 1.462, 0.246])}\n",
      "centroids:  {0: array([6.82307692, 3.06666667, 5.72564103, 2.07948718]), 1: array([5.488, 2.608, 3.928, 1.212]), 2: array([6.19166667, 2.84444444, 4.69722222, 1.56111111]), 3: array([5.006, 3.428, 1.462, 0.246])}\n",
      "centroids:  {0: array([6.87428571, 3.08857143, 5.79142857, 2.11714286]), 1: array([5.508, 2.6  , 3.908, 1.204]), 2: array([6.1975, 2.8525, 4.755 , 1.585 ]), 3: array([5.006, 3.428, 1.462, 0.246])}\n",
      "centroids:  {0: array([6.9125  , 3.1     , 5.846875, 2.13125 ]), 1: array([5.508, 2.6  , 3.908, 1.204]), 2: array([6.21627907, 2.86046512, 4.78604651, 1.61162791]), 3: array([5.006, 3.428, 1.462, 0.246])}\n",
      "centroids:  {0: array([6.9125  , 3.1     , 5.846875, 2.13125 ]), 1: array([5.51538462, 2.60769231, 3.93076923, 1.20769231]), 2: array([6.22857143, 2.86190476, 4.79285714, 1.61904762]), 3: array([5.006, 3.428, 1.462, 0.246])}\n",
      "centroids:  {0: array([6.9125  , 3.1     , 5.846875, 2.13125 ]), 1: array([5.52962963, 2.62222222, 3.94074074, 1.21851852]), 2: array([6.23658537, 2.85853659, 4.80731707, 1.62195122]), 3: array([5.006, 3.428, 1.462, 0.246])}\n",
      "NO FURTHER UPDATE\n",
      "k= 4 sse= 57.25600931571812\n",
      "[ 14  35  93 148 130]\n",
      "centroids:  {0: array([5.8, 4. , 1.2, 0.2]), 1: array([5. , 3.2, 1.2, 0.2]), 2: array([5. , 2.3, 3.3, 1. ]), 3: array([6.2, 3.4, 5.4, 2.3]), 4: array([7.4, 2.8, 6.1, 1.9])}\n",
      "centroids:  {0: array([5.49, 3.92, 1.46, 0.26]), 1: array([4.885 , 3.305 , 1.4625, 0.2425]), 2: array([5.55      , 2.58076923, 3.92692308, 1.2       ]), 3: array([6.31967213, 2.95245902, 5.03442623, 1.80327869]), 4: array([7.41538462, 3.07692308, 6.26153846, 2.03076923])}\n",
      "centroids:  {0: array([5.38      , 3.84666667, 1.50666667, 0.28666667]), 1: array([4.84571429, 3.24857143, 1.44285714, 0.22857143]), 2: array([5.58      , 2.63333333, 3.98666667, 1.23333333]), 3: array([6.34      , 2.92727273, 5.05636364, 1.79818182]), 4: array([7.34      , 3.14666667, 6.19333333, 2.11333333])}\n",
      "centroids:  {0: array([5.37058824, 3.8       , 1.51764706, 0.27647059]), 1: array([4.81818182, 3.23636364, 1.43333333, 0.23030303]), 2: array([5.6       , 2.61935484, 4.00322581, 1.24193548]), 3: array([6.33653846, 2.92692308, 5.03653846, 1.78461538]), 4: array([7.24117647, 3.16470588, 6.15294118, 2.13529412])}\n",
      "centroids:  {0: array([5.37058824, 3.8       , 1.51764706, 0.27647059]), 1: array([4.81818182, 3.23636364, 1.43333333, 0.23030303]), 2: array([5.6       , 2.61935484, 4.00322581, 1.24193548]), 3: array([6.326, 2.922, 5.01 , 1.764]), 4: array([7.17368421, 3.15263158, 6.10526316, 2.15263158])}\n",
      "centroids:  {0: array([5.37058824, 3.8       , 1.51764706, 0.27647059]), 1: array([4.81818182, 3.23636364, 1.43333333, 0.23030303]), 2: array([5.6       , 2.61935484, 4.00322581, 1.24193548]), 3: array([6.29574468, 2.92553191, 4.97446809, 1.74893617]), 4: array([7.12272727, 3.11363636, 6.03181818, 2.13181818])}\n",
      "centroids:  {0: array([5.37058824, 3.8       , 1.51764706, 0.27647059]), 1: array([4.81818182, 3.23636364, 1.43333333, 0.23030303]), 2: array([5.58      , 2.63333333, 3.98666667, 1.23333333]), 3: array([6.29361702, 2.9       , 4.95106383, 1.72978723]), 4: array([7.08695652, 3.12608696, 6.01304348, 2.14347826])}\n",
      "NO FURTHER UPDATE\n",
      "k= 5 sse= 50.29194634927386\n",
      "[ 47  86  91  76 114  27]\n",
      "centroids:  {0: array([4.6, 3.2, 1.4, 0.2]), 1: array([6.7, 3.1, 4.7, 1.5]), 2: array([6.1, 3. , 4.6, 1.4]), 3: array([6.8, 2.8, 4.8, 1.4]), 4: array([5.8, 2.8, 5.1, 2.4]), 5: array([5.2, 3.5, 1.5, 0.2])}\n",
      "centroids:  {0: array([4.69047619, 3.11428571, 1.41428571, 0.2       ]), 1: array([6.83684211, 3.20526316, 5.28947368, 1.87368421]), 2: array([5.79565217, 2.71521739, 4.27391304, 1.34347826]), 3: array([7.12857143, 2.84285714, 5.79285714, 1.81428571]), 4: array([6.18571429, 2.93333333, 5.35238095, 2.13333333]), 5: array([5.23448276, 3.65517241, 1.49655172, 0.27931034])}\n",
      "centroids:  {0: array([4.70454545, 3.12272727, 1.41363636, 0.2       ]), 1: array([6.73125, 3.1125 , 5.20625, 1.9375 ]), 2: array([5.80454545, 2.7       , 4.17727273, 1.29545455]), 3: array([7.37142857, 3.08571429, 6.23571429, 2.05      ]), 4: array([6.15      , 2.9       , 5.23846154, 1.95769231]), 5: array([5.24285714, 3.66785714, 1.5       , 0.28214286])}\n",
      "centroids:  {0: array([4.70454545, 3.12272727, 1.41363636, 0.2       ]), 1: array([6.67826087, 3.05652174, 5.17391304, 1.89130435]), 2: array([5.72564103, 2.7       , 4.11025641, 1.27692308]), 3: array([7.42307692, 3.13076923, 6.26923077, 2.06923077]), 4: array([6.112, 2.836, 5.192, 1.896]), 5: array([5.24285714, 3.66785714, 1.5       , 0.28214286])}\n",
      "centroids:  {0: array([4.70454545, 3.12272727, 1.41363636, 0.2       ]), 1: array([6.62857143, 3.08214286, 5.17857143, 1.89642857]), 2: array([5.67222222, 2.67222222, 4.075     , 1.26388889]), 3: array([7.42307692, 3.13076923, 6.26923077, 2.06923077]), 4: array([6.0826087 , 2.7826087 , 5.10434783, 1.83043478]), 5: array([5.24285714, 3.66785714, 1.5       , 0.28214286])}\n",
      "centroids:  {0: array([4.70454545, 3.12272727, 1.41363636, 0.2       ]), 1: array([6.60333333, 3.08333333, 5.23333333, 1.94      ]), 2: array([5.63636364, 2.63636364, 4.02727273, 1.25151515]), 3: array([7.42307692, 3.13076923, 6.26923077, 2.06923077]), 4: array([6.06666667, 2.79166667, 4.96666667, 1.71666667]), 5: array([5.24285714, 3.66785714, 1.5       , 0.28214286])}\n",
      "centroids:  {0: array([4.70454545, 3.12272727, 1.41363636, 0.2       ]), 1: array([6.6       , 3.05925926, 5.38148148, 2.02592593]), 2: array([5.60645161, 2.64193548, 3.99677419, 1.23548387]), 3: array([7.42307692, 3.13076923, 6.26923077, 2.06923077]), 4: array([6.12758621, 2.82758621, 4.82413793, 1.64482759]), 5: array([5.24285714, 3.66785714, 1.5       , 0.28214286])}\n",
      "centroids:  {0: array([4.70454545, 3.12272727, 1.41363636, 0.2       ]), 1: array([6.58 , 3.068, 5.48 , 2.108]), 2: array([5.52962963, 2.62222222, 3.94074074, 1.21851852]), 3: array([7.475, 3.125, 6.3  , 2.05 ]), 4: array([6.18611111, 2.83888889, 4.76666667, 1.59444444]), 5: array([5.24285714, 3.66785714, 1.5       , 0.28214286])}\n",
      "centroids:  {0: array([4.70454545, 3.12272727, 1.41363636, 0.2       ]), 1: array([6.52916667, 3.05833333, 5.50833333, 2.1625    ]), 2: array([5.52962963, 2.62222222, 3.94074074, 1.21851852]), 3: array([7.475, 3.125, 6.3  , 2.05 ]), 4: array([6.22972973, 2.85135135, 4.76756757, 1.57297297]), 5: array([5.24285714, 3.66785714, 1.5       , 0.28214286])}\n",
      "NO FURTHER UPDATE\n",
      "k= 6 sse= 39.054977867477895\n",
      "[ 90   2 118 102  74   8 143]\n"
     ]
    },
    {
     "name": "stdout",
     "output_type": "stream",
     "text": [
      "centroids:  {0: array([5.5, 2.6, 4.4, 1.2]), 1: array([4.7, 3.2, 1.3, 0.2]), 2: array([7.7, 2.6, 6.9, 2.3]), 3: array([7.1, 3. , 5.9, 2.1]), 4: array([6.4, 2.9, 4.3, 1.3]), 5: array([4.4, 2.9, 1.4, 0.2]), 6: array([6.8, 3.2, 5.9, 2.3])}\n",
      "centroids:  {0: array([5.55625 , 2.6125  , 4.153125, 1.328125]), 1: array([5.05869565, 3.4826087 , 1.47826087, 0.25      ]), 2: array([7.675, 3.05 , 6.725, 2.15 ]), 3: array([7.15, 2.99, 5.94, 1.88]), 4: array([6.31935484, 2.90645161, 4.65483871, 1.52258065]), 5: array([4.4  , 2.8  , 1.275, 0.2  ]), 6: array([6.53478261, 3.10434783, 5.52608696, 2.19565217])}\n",
      "centroids:  {0: array([5.53214286, 2.63571429, 3.96071429, 1.22857143]), 1: array([5.1097561 , 3.52926829, 1.48780488, 0.25609756]), 2: array([7.71666667, 3.16666667, 6.56666667, 2.15      ]), 3: array([7.15714286, 3.        , 6.        , 1.92857143]), 4: array([6.24722222, 2.84722222, 4.775     , 1.575     ]), 5: array([4.53333333, 2.96666667, 1.34444444, 0.2       ]), 6: array([6.52173913, 3.0826087 , 5.49565217, 2.17826087])}\n",
      "centroids:  {0: array([5.53214286, 2.63571429, 3.96071429, 1.22857143]), 1: array([5.18181818, 3.62424242, 1.48787879, 0.26969697]), 2: array([7.71666667, 3.16666667, 6.56666667, 2.15      ]), 3: array([7.15714286, 3.        , 6.        , 1.92857143]), 4: array([6.24722222, 2.84722222, 4.775     , 1.575     ]), 5: array([4.66470588, 3.04705882, 1.41176471, 0.2       ]), 6: array([6.52173913, 3.0826087 , 5.49565217, 2.17826087])}\n",
      "centroids:  {0: array([5.53214286, 2.63571429, 3.96071429, 1.22857143]), 1: array([5.22      , 3.64666667, 1.51      , 0.27666667]), 2: array([7.71666667, 3.16666667, 6.56666667, 2.15      ]), 3: array([7.15714286, 3.        , 6.        , 1.92857143]), 4: array([6.24722222, 2.84722222, 4.775     , 1.575     ]), 5: array([4.685, 3.1  , 1.39 , 0.2  ]), 6: array([6.52173913, 3.0826087 , 5.49565217, 2.17826087])}\n",
      "centroids:  {0: array([5.53214286, 2.63571429, 3.96071429, 1.22857143]), 1: array([5.24285714, 3.66785714, 1.5       , 0.28214286]), 2: array([7.71666667, 3.16666667, 6.56666667, 2.15      ]), 3: array([7.15714286, 3.        , 6.        , 1.92857143]), 4: array([6.24722222, 2.84722222, 4.775     , 1.575     ]), 5: array([4.70454545, 3.12272727, 1.41363636, 0.2       ]), 6: array([6.52173913, 3.0826087 , 5.49565217, 2.17826087])}\n",
      "NO FURTHER UPDATE\n",
      "k= 7 sse= 37.390833490181336\n",
      "[ 68 108  52 133 112  32  71  98]\n",
      "centroids:  {0: array([6.2, 2.2, 4.5, 1.5]), 1: array([6.7, 2.5, 5.8, 1.8]), 2: array([6.9, 3.1, 4.9, 1.5]), 3: array([6.3, 2.8, 5.1, 1.5]), 4: array([6.8, 3. , 5.5, 2.1]), 5: array([5.2, 4.1, 1.5, 0.1]), 6: array([6.1, 2.8, 4. , 1.3]), 7: array([5.1, 2.5, 3. , 1.1])}\n",
      "centroids:  {0: array([5.85, 2.3 , 4.6 , 1.5 ]), 1: array([7.4       , 2.76666667, 6.4       , 1.98333333]), 2: array([6.71111111, 3.04444444, 4.66666667, 1.45555556]), 3: array([6.0826087 , 2.81304348, 4.97391304, 1.72608696]), 4: array([6.7962963 , 3.18148148, 5.68148148, 2.16666667]), 5: array([5.006, 3.428, 1.462, 0.246]), 6: array([5.73461538, 2.76153846, 4.12307692, 1.28076923]), 7: array([5.1 , 2.32, 3.36, 1.02])}\n",
      "centroids:  {0: array([5.85, 2.3 , 4.6 , 1.5 ]), 1: array([7.625 , 3.0875, 6.475 , 2.075 ]), 2: array([6.63333333, 3.03333333, 4.63333333, 1.45833333]), 3: array([6.0875    , 2.84166667, 4.99583333, 1.75833333]), 4: array([6.69130435, 3.11304348, 5.63913043, 2.16521739]), 5: array([5.006, 3.428, 1.462, 0.246]), 6: array([5.69565217, 2.73478261, 4.12608696, 1.27826087]), 7: array([5.2       , 2.36666667, 3.38333333, 1.01666667])}\n",
      "centroids:  {0: array([5.85, 2.3 , 4.6 , 1.5 ]), 1: array([7.54, 3.15, 6.39, 2.09]), 2: array([6.55      , 3.05714286, 4.62142857, 1.46428571]), 3: array([6.03684211, 2.77368421, 4.99473684, 1.75789474]), 4: array([6.61666667, 3.07916667, 5.5625    , 2.1375    ]), 5: array([5.006, 3.428, 1.462, 0.246]), 6: array([5.70454545, 2.75      , 4.14090909, 1.28636364]), 7: array([5.24285714, 2.37142857, 3.44285714, 1.02857143])}\n",
      "centroids:  {0: array([5.85, 2.3 , 4.6 , 1.5 ]), 1: array([7.54, 3.15, 6.39, 2.09]), 2: array([6.5    , 3.03125, 4.60625, 1.4375 ]), 3: array([6.03333333, 2.77222222, 5.01111111, 1.78888889]), 4: array([6.61666667, 3.07916667, 5.5625    , 2.1375    ]), 5: array([5.006, 3.428, 1.462, 0.246]), 6: array([5.68095238, 2.74285714, 4.13333333, 1.28571429]), 7: array([5.24285714, 2.37142857, 3.44285714, 1.02857143])}\n",
      "centroids:  {0: array([6.16666667, 2.23333333, 4.63333333, 1.43333333]), 1: array([7.54, 3.15, 6.39, 2.09]), 2: array([6.45      , 3.01666667, 4.60555556, 1.43888889]), 3: array([6.02941176, 2.76470588, 5.02941176, 1.81176471]), 4: array([6.61666667, 3.07916667, 5.5625    , 2.1375    ]), 5: array([5.006, 3.428, 1.462, 0.246]), 6: array([5.62857143, 2.72380952, 4.13333333, 1.2952381 ]), 7: array([5.24285714, 2.37142857, 3.44285714, 1.02857143])}\n",
      "centroids:  {0: array([6.2 , 2.3 , 4.7 , 1.45]), 1: array([7.54, 3.15, 6.39, 2.09]), 2: array([6.45      , 3.01666667, 4.60555556, 1.43888889]), 3: array([6.0125 , 2.78125, 5.0375 , 1.83125]), 4: array([6.61666667, 3.07916667, 5.5625    , 2.1375    ]), 5: array([5.006, 3.428, 1.462, 0.246]), 6: array([5.62857143, 2.72380952, 4.13333333, 1.2952381 ]), 7: array([5.24285714, 2.37142857, 3.44285714, 1.02857143])}\n",
      "NO FURTHER UPDATE\n",
      "k= 8 sse= 36.04938888888891\n",
      "[113  22  39  19  21 110 112 134 129]\n",
      "centroids:  {0: array([5.7, 2.5, 5. , 2. ]), 1: array([4.6, 3.6, 1. , 0.2]), 2: array([5.1, 3.4, 1.5, 0.2]), 3: array([5.1, 3.8, 1.5, 0.3]), 4: array([5.1, 3.7, 1.5, 0.4]), 5: array([6.5, 3.2, 5.1, 2. ]), 6: array([6.8, 3. , 5.5, 2.1]), 7: array([6.1, 2.6, 5.6, 1.4]), 8: array([7.2, 3. , 5.8, 1.6])}\n",
      "centroids:  {0: array([5.6902439 , 2.64634146, 4.29756098, 1.4097561 ]), 1: array([4.45      , 3.18333333, 1.25      , 0.2       ]), 2: array([4.96451613, 3.24193548, 1.52258065, 0.25483871]), 3: array([5.41818182, 3.93636364, 1.49090909, 0.26363636]), 4: array([5.06666667, 3.66666667, 1.66666667, 0.46666667]), 5: array([6.42692308, 3.05384615, 4.83846154, 1.68076923]), 6: array([6.71764706, 3.07647059, 5.65294118, 2.21176471]), 7: array([6.22, 2.72, 5.18, 1.48]), 8: array([7.54, 3.09, 6.36, 2.  ])}\n",
      "centroids:  {0: array([5.6125  , 2.628125, 4.01875 , 1.25    ]), 1: array([4.51, 3.09, 1.3 , 0.21]), 2: array([4.97916667, 3.30416667, 1.49583333, 0.22083333]), 3: array([5.49, 3.92, 1.46, 0.26]), 4: array([5.13333333, 3.66666667, 1.6       , 0.38333333]), 5: array([6.42272727, 3.02727273, 4.72272727, 1.58636364]), 6: array([6.615, 3.09 , 5.59 , 2.195]), 7: array([6.02666667, 2.68      , 5.10666667, 1.75333333]), 8: array([7.50909091, 3.13636364, 6.33636364, 2.04545455])}\n",
      "centroids:  {0: array([5.55862069, 2.62413793, 3.97586207, 1.23103448]), 1: array([4.55833333, 3.075     , 1.31666667, 0.20833333]), 2: array([4.96315789, 3.30526316, 1.5       , 0.22631579]), 3: array([5.51111111, 3.94444444, 1.45555556, 0.26666667]), 4: array([5.17, 3.62, 1.57, 0.31]), 5: array([6.42105263, 3.02631579, 4.61578947, 1.45789474]), 6: array([6.59130435, 3.0826087 , 5.55217391, 2.16086957]), 7: array([6.04444444, 2.67777778, 5.01111111, 1.77777778]), 8: array([7.50909091, 3.13636364, 6.33636364, 2.04545455])}\n",
      "centroids:  {0: array([5.53214286, 2.63571429, 3.96071429, 1.22857143]), 1: array([4.55833333, 3.075     , 1.31666667, 0.20833333]), 2: array([4.94705882, 3.28235294, 1.51176471, 0.22352941]), 3: array([5.52857143, 4.04285714, 1.47142857, 0.28571429]), 4: array([5.2       , 3.6       , 1.52142857, 0.28571429]), 5: array([6.44210526, 2.97894737, 4.59473684, 1.43157895]), 6: array([6.56818182, 3.08636364, 5.53636364, 2.16363636]), 7: array([6.03684211, 2.70526316, 5.        , 1.77894737]), 8: array([7.475, 3.125, 6.3  , 2.05 ])}\n",
      "centroids:  {0: array([5.53214286, 2.63571429, 3.96071429, 1.22857143]), 1: array([4.55833333, 3.075     , 1.31666667, 0.20833333]), 2: array([4.92666667, 3.26      , 1.53333333, 0.22      ]), 3: array([5.52857143, 4.04285714, 1.47142857, 0.28571429]), 4: array([5.1875 , 3.58125, 1.5    , 0.28125]), 5: array([6.44210526, 2.97894737, 4.59473684, 1.43157895]), 6: array([6.56818182, 3.08636364, 5.53636364, 2.16363636]), 7: array([6.03684211, 2.70526316, 5.        , 1.77894737]), 8: array([7.475, 3.125, 6.3  , 2.05 ])}\n",
      "centroids:  {0: array([5.53214286, 2.63571429, 3.96071429, 1.22857143]), 1: array([4.55833333, 3.075     , 1.31666667, 0.20833333]), 2: array([4.91538462, 3.22307692, 1.54615385, 0.23076923]), 3: array([5.52857143, 4.04285714, 1.47142857, 0.28571429]), 4: array([5.16666667, 3.57222222, 1.49444444, 0.26666667]), 5: array([6.44210526, 2.97894737, 4.59473684, 1.43157895]), 6: array([6.56818182, 3.08636364, 5.53636364, 2.16363636]), 7: array([6.03684211, 2.70526316, 5.        , 1.77894737]), 8: array([7.475, 3.125, 6.3  , 2.05 ])}\n",
      "NO FURTHER UPDATE\n",
      "k= 9 sse= 31.350765740107857\n",
      "[ 30  47 121 108  17 118 111 144  35  85]\n",
      "centroids:  {0: array([4.8, 3.1, 1.6, 0.2]), 1: array([4.6, 3.2, 1.4, 0.2]), 2: array([5.6, 2.8, 4.9, 2. ]), 3: array([6.7, 2.5, 5.8, 1.8]), 4: array([5.1, 3.5, 1.4, 0.3]), 5: array([7.7, 2.6, 6.9, 2.3]), 6: array([6.4, 2.7, 5.3, 1.9]), 7: array([6.7, 3.3, 5.7, 2.5]), 8: array([5. , 3.2, 1.2, 0.2]), 9: array([6. , 3.4, 4.5, 1.6])}\n"
     ]
    },
    {
     "name": "stdout",
     "output_type": "stream",
     "text": [
      "centroids:  {0: array([4.83333333, 3.00833333, 1.65      , 0.275     ]), 1: array([4.51111111, 3.17777778, 1.3       , 0.2       ]), 2: array([5.61538462, 2.68461538, 4.68461538, 1.71538462]), 3: array([7.16, 2.88, 6.  , 1.78]), 4: array([5.24285714, 3.66785714, 1.5       , 0.28214286]), 5: array([7.71666667, 3.16666667, 6.56666667, 2.15      ]), 6: array([6.38636364, 2.75909091, 5.11818182, 1.74090909]), 7: array([6.69333333, 3.21333333, 5.64666667, 2.29333333]), 8: array([5.  , 3.25, 1.3 , 0.2 ]), 9: array([5.92368421, 2.82894737, 4.21052632, 1.30789474])}\n",
      "centroids:  {0: array([4.83636364, 3.04545455, 1.53636364, 0.22727273]), 1: array([4.51111111, 3.17777778, 1.3       , 0.2       ]), 2: array([5.68181818, 2.76363636, 4.84545455, 1.81818182]), 3: array([7.15      , 2.9       , 5.98333333, 1.83333333]), 4: array([5.30952381, 3.74761905, 1.5047619 , 0.28571429]), 5: array([7.71666667, 3.16666667, 6.56666667, 2.15      ]), 6: array([6.4173913 , 2.9       , 5.02608696, 1.66521739]), 7: array([6.63529412, 3.16470588, 5.6       , 2.28823529]), 8: array([5.        , 3.4       , 1.43333333, 0.22222222]), 9: array([5.78648649, 2.7       , 4.08648649, 1.25675676])}\n",
      "centroids:  {0: array([4.81111111, 2.97777778, 1.47777778, 0.2       ]), 1: array([4.51111111, 3.17777778, 1.3       , 0.2       ]), 2: array([5.74285714, 2.82142857, 4.85714286, 1.78571429]), 3: array([7.15      , 2.9       , 5.98333333, 1.83333333]), 4: array([5.38125, 3.81875, 1.51875, 0.28125]), 5: array([7.64285714, 3.22857143, 6.5       , 2.2       ]), 6: array([6.43333333, 2.92592593, 4.91481481, 1.6       ]), 7: array([6.6    , 3.1375 , 5.56875, 2.275  ]), 8: array([5.01875, 3.43125, 1.4875 , 0.2625 ]), 9: array([5.67      , 2.61666667, 3.98      , 1.22      ])}\n",
      "centroids:  {0: array([4.81111111, 2.97777778, 1.47777778, 0.2       ]), 1: array([4.51111111, 3.17777778, 1.3       , 0.2       ]), 2: array([5.76      , 2.82666667, 4.83333333, 1.76666667]), 3: array([7.15      , 2.9       , 5.98333333, 1.83333333]), 4: array([5.4       , 3.89230769, 1.50769231, 0.26923077]), 5: array([7.64285714, 3.22857143, 6.5       , 2.2       ]), 6: array([6.424, 2.884, 4.788, 1.544]), 7: array([6.565, 3.11 , 5.545, 2.19 ]), 8: array([5.06315789, 3.44210526, 1.5       , 0.27368421]), 9: array([5.61111111, 2.61111111, 3.92962963, 1.1962963 ])}\n",
      "centroids:  {0: array([4.81111111, 2.97777778, 1.47777778, 0.2       ]), 1: array([4.51111111, 3.17777778, 1.3       , 0.2       ]), 2: array([5.77647059, 2.83529412, 4.81764706, 1.74117647]), 3: array([7.15      , 2.9       , 5.98333333, 1.83333333]), 4: array([5.4       , 3.89230769, 1.50769231, 0.26923077]), 5: array([7.64285714, 3.22857143, 6.5       , 2.2       ]), 6: array([6.42083333, 2.85      , 4.7125    , 1.47916667]), 7: array([6.55454545, 3.09545455, 5.51363636, 2.16818182]), 8: array([5.06315789, 3.44210526, 1.5       , 0.27368421]), 9: array([5.55416667, 2.60416667, 3.87083333, 1.18333333])}\n",
      "centroids:  {0: array([4.81111111, 2.97777778, 1.47777778, 0.2       ]), 1: array([4.51111111, 3.17777778, 1.3       , 0.2       ]), 2: array([5.8       , 2.83157895, 4.82631579, 1.71052632]), 3: array([7.15      , 2.9       , 5.98333333, 1.83333333]), 4: array([5.4       , 3.89230769, 1.50769231, 0.26923077]), 5: array([7.64285714, 3.22857143, 6.5       , 2.2       ]), 6: array([6.43478261, 2.86086957, 4.67391304, 1.4826087 ]), 7: array([6.55454545, 3.09545455, 5.51363636, 2.16818182]), 8: array([5.06315789, 3.44210526, 1.5       , 0.27368421]), 9: array([5.53913043, 2.58695652, 3.85652174, 1.16956522])}\n",
      "centroids:  {0: array([4.81111111, 2.97777778, 1.47777778, 0.2       ]), 1: array([4.51111111, 3.17777778, 1.3       , 0.2       ]), 2: array([5.84285714, 2.81428571, 4.83333333, 1.72380952]), 3: array([7.15      , 2.9       , 5.98333333, 1.83333333]), 4: array([5.4       , 3.89230769, 1.50769231, 0.26923077]), 5: array([7.64285714, 3.22857143, 6.5       , 2.2       ]), 6: array([6.45238095, 2.88095238, 4.65238095, 1.44761905]), 7: array([6.55454545, 3.09545455, 5.51363636, 2.16818182]), 8: array([5.06315789, 3.44210526, 1.5       , 0.27368421]), 9: array([5.53913043, 2.58695652, 3.85652174, 1.16956522])}\n",
      "centroids:  {0: array([4.81111111, 2.97777778, 1.47777778, 0.2       ]), 1: array([4.51111111, 3.17777778, 1.3       , 0.2       ]), 2: array([5.86363636, 2.80909091, 4.83636364, 1.72727273]), 3: array([7.15      , 2.9       , 5.98333333, 1.83333333]), 4: array([5.4       , 3.89230769, 1.50769231, 0.26923077]), 5: array([7.64285714, 3.22857143, 6.5       , 2.2       ]), 6: array([6.46, 2.89, 4.64, 1.43]), 7: array([6.55454545, 3.09545455, 5.51363636, 2.16818182]), 8: array([5.06315789, 3.44210526, 1.5       , 0.27368421]), 9: array([5.53913043, 2.58695652, 3.85652174, 1.16956522])}\n",
      "centroids:  {0: array([4.81111111, 2.97777778, 1.47777778, 0.2       ]), 1: array([4.51111111, 3.17777778, 1.3       , 0.2       ]), 2: array([5.90952381, 2.82380952, 4.85238095, 1.72857143]), 3: array([7.15      , 2.9       , 5.98333333, 1.83333333]), 4: array([5.4       , 3.89230769, 1.50769231, 0.26923077]), 5: array([7.64285714, 3.22857143, 6.5       , 2.2       ]), 6: array([6.46, 2.89, 4.64, 1.43]), 7: array([6.55454545, 3.09545455, 5.51363636, 2.16818182]), 8: array([5.06315789, 3.44210526, 1.5       , 0.27368421]), 9: array([5.5125    , 2.58333333, 3.88333333, 1.19166667])}\n",
      "NO FURTHER UPDATE\n",
      "k= 10 sse= 30.142467793902007\n",
      "[ 30 135 106   1  45  86  60 147  96  62  72]\n",
      "centroids:  {0: array([4.8, 3.1, 1.6, 0.2]), 1: array([7.7, 3. , 6.1, 2.3]), 2: array([4.9, 2.5, 4.5, 1.7]), 3: array([4.9, 3. , 1.4, 0.2]), 4: array([4.8, 3. , 1.4, 0.3]), 5: array([6.7, 3.1, 4.7, 1.5]), 6: array([5. , 2. , 3.5, 1. ]), 7: array([6.5, 3. , 5.2, 2. ]), 8: array([5.7, 2.9, 4.2, 1.3]), 9: array([6. , 2.2, 4. , 1. ]), 10: array([6.3, 2.5, 4.9, 1.5])}\n",
      "centroids:  {0: array([5.1       , 3.6       , 1.56923077, 0.26923077]), 1: array([7.475, 3.125, 6.3  , 2.05 ]), 2: array([5.25, 2.65, 4.7 , 1.85]), 3: array([5.13333333, 3.36      , 1.38666667, 0.22666667]), 4: array([4.52222222, 3.04444444, 1.27777778, 0.21111111]), 5: array([6.63333333, 3.03333333, 4.63333333, 1.45833333]), 6: array([5.   , 2.3  , 3.275, 1.025]), 7: array([6.46666667, 3.05925926, 5.44444444, 2.12222222]), 8: array([5.73809524, 2.85238095, 4.2047619 , 1.32857143]), 9: array([5.63333333, 2.4       , 3.81666667, 1.08333333]), 10: array([6.09375, 2.61875, 4.91875, 1.625  ])}\n",
      "centroids:  {0: array([5.22727273, 3.72272727, 1.55454545, 0.28636364]), 1: array([7.475, 3.125, 6.3  , 2.05 ]), 2: array([5.25, 2.65, 4.7 , 1.85]), 3: array([5.09230769, 3.33076923, 1.42307692, 0.22307692]), 4: array([4.60666667, 3.08      , 1.36      , 0.20666667]), 5: array([6.59230769, 3.03076923, 4.63076923, 1.45384615]), 6: array([5.   , 2.3  , 3.275, 1.025]), 7: array([6.52916667, 3.05833333, 5.50833333, 2.1625    ]), 8: array([5.76875, 2.8875 , 4.2625 , 1.33125]), 9: array([5.59, 2.51, 3.84, 1.17]), 10: array([6.07368421, 2.68947368, 4.92105263, 1.65263158])}\n",
      "centroids:  {0: array([5.35625, 3.825  , 1.525  , 0.29375]), 1: array([7.475, 3.125, 6.3  , 2.05 ]), 2: array([5.25, 2.65, 4.7 , 1.85]), 3: array([5.02631579, 3.36842105, 1.48947368, 0.23684211]), 4: array([4.60666667, 3.08      , 1.36      , 0.20666667]), 5: array([6.63333333, 3.03333333, 4.63333333, 1.45833333]), 6: array([5.   , 2.3  , 3.275, 1.025]), 7: array([6.56086957, 3.06956522, 5.52608696, 2.15217391]), 8: array([5.7875 , 2.90625, 4.30625, 1.34375]), 9: array([5.60909091, 2.52727273, 3.84545455, 1.17272727]), 10: array([6.06 , 2.695, 4.93 , 1.69 ])}\n",
      "centroids:  {0: array([5.37857143, 3.87857143, 1.50714286, 0.27857143]), 1: array([7.475, 3.125, 6.3  , 2.05 ]), 2: array([5.25, 2.65, 4.7 , 1.85]), 3: array([5.04285714, 3.37619048, 1.5047619 , 0.25238095]), 4: array([4.60666667, 3.08      , 1.36      , 0.20666667]), 5: array([6.63333333, 3.03333333, 4.63333333, 1.45833333]), 6: array([5.   , 2.3  , 3.275, 1.025]), 7: array([6.56086957, 3.06956522, 5.52608696, 2.15217391]), 8: array([5.83529412, 2.87647059, 4.34705882, 1.35294118]), 9: array([5.625     , 2.54166667, 3.86666667, 1.15833333]), 10: array([6.04444444, 2.71111111, 4.97222222, 1.73888889])}\n",
      "centroids:  {0: array([5.37857143, 3.87857143, 1.50714286, 0.27857143]), 1: array([7.475, 3.125, 6.3  , 2.05 ]), 2: array([5.25, 2.65, 4.7 , 1.85]), 3: array([5.05 , 3.39 , 1.505, 0.26 ]), 4: array([4.625  , 3.08125, 1.36875, 0.2    ]), 5: array([6.63333333, 3.03333333, 4.63333333, 1.45833333]), 6: array([5.   , 2.3  , 3.275, 1.025]), 7: array([6.56818182, 3.08636364, 5.53636364, 2.16363636]), 8: array([5.85      , 2.87777778, 4.36666667, 1.35555556]), 9: array([5.625     , 2.54166667, 3.86666667, 1.15833333]), 10: array([6.06111111, 2.7       , 5.00555556, 1.76666667])}\n",
      "centroids:  {0: array([5.4       , 3.89230769, 1.50769231, 0.26923077]), 1: array([7.475, 3.125, 6.3  , 2.05 ]), 2: array([5.25, 2.65, 4.7 , 1.85]), 3: array([5.06 , 3.42 , 1.505, 0.27 ]), 4: array([4.64117647, 3.08235294, 1.37647059, 0.2       ]), 5: array([6.63333333, 3.03333333, 4.63333333, 1.45833333]), 6: array([5.   , 2.3  , 3.275, 1.025]), 7: array([6.56818182, 3.08636364, 5.53636364, 2.16363636]), 8: array([5.85      , 2.87777778, 4.36666667, 1.35555556]), 9: array([5.625     , 2.54166667, 3.86666667, 1.15833333]), 10: array([6.06111111, 2.7       , 5.00555556, 1.76666667])}\n",
      "centroids:  {0: array([5.4       , 3.89230769, 1.50769231, 0.26923077]), 1: array([7.475, 3.125, 6.3  , 2.05 ]), 2: array([5.25, 2.65, 4.7 , 1.85]), 3: array([5.06315789, 3.44210526, 1.5       , 0.27368421]), 4: array([4.66111111, 3.07777778, 1.38888889, 0.2       ]), 5: array([6.63333333, 3.03333333, 4.63333333, 1.45833333]), 6: array([5.   , 2.3  , 3.275, 1.025]), 7: array([6.56818182, 3.08636364, 5.53636364, 2.16363636]), 8: array([5.85      , 2.87777778, 4.36666667, 1.35555556]), 9: array([5.625     , 2.54166667, 3.86666667, 1.15833333]), 10: array([6.06111111, 2.7       , 5.00555556, 1.76666667])}\n"
     ]
    },
    {
     "name": "stdout",
     "output_type": "stream",
     "text": [
      "NO FURTHER UPDATE\n",
      "k= 11 sse= 25.21508792377213\n",
      "[ 77  83  89  43  82  60  16   7 146 139  36 127]\n",
      "centroids:  {0: array([6.7, 3. , 5. , 1.7]), 1: array([6. , 2.7, 5.1, 1.6]), 2: array([5.5, 2.5, 4. , 1.3]), 3: array([5. , 3.5, 1.6, 0.6]), 4: array([5.8, 2.7, 3.9, 1.2]), 5: array([5. , 2. , 3.5, 1. ]), 6: array([5.4, 3.9, 1.3, 0.4]), 7: array([5. , 3.4, 1.5, 0.2]), 8: array([6.3, 2.5, 5. , 1.9]), 9: array([6.9, 3.1, 5.4, 2.1]), 10: array([5.5, 3.5, 1.3, 0.2]), 11: array([6.1, 3. , 4.9, 1.8])}\n",
      "centroids:  {0: array([6.68181818, 3.01818182, 4.76363636, 1.55454545]), 1: array([6.01111111, 2.65555556, 5.14444444, 1.64444444]), 2: array([5.44545455, 2.58181818, 4.12727273, 1.29090909]), 3: array([5.06, 3.54, 1.66, 0.46]), 4: array([5.88666667, 2.75333333, 4.06      , 1.23333333]), 5: array([5.   , 2.3  , 3.275, 1.025]), 6: array([5.475 , 4.0125, 1.475 , 0.2875]), 7: array([4.81875 , 3.246875, 1.421875, 0.203125]), 8: array([6.3 , 2.52, 4.92, 1.72]), 9: array([6.93225806, 3.10645161, 5.85483871, 2.14193548]), 10: array([5.4 , 3.54, 1.5 , 0.24]), 11: array([6.        , 3.02142857, 4.74285714, 1.70714286])}\n",
      "centroids:  {0: array([6.65833333, 3.03333333, 4.74166667, 1.55      ]), 1: array([6.02222222, 2.75555556, 5.24444444, 1.81111111]), 2: array([5.42, 2.56, 4.09, 1.29]), 3: array([5.04, 3.58, 1.61, 0.35]), 4: array([5.84666667, 2.78666667, 4.06666667, 1.23333333]), 5: array([5.   , 2.3  , 3.275, 1.025]), 6: array([5.52857143, 4.04285714, 1.47142857, 0.28571429]), 7: array([4.748, 3.168, 1.396, 0.2  ]), 8: array([6.25714286, 2.44285714, 4.85714286, 1.62857143]), 9: array([6.95      , 3.10666667, 5.86666667, 2.15333333]), 10: array([5.3125, 3.5125, 1.475 , 0.225 ]), 11: array([5.99230769, 3.00769231, 4.73076923, 1.63076923])}\n",
      "centroids:  {0: array([6.65      , 3.025     , 4.66666667, 1.49166667]), 1: array([6.13888889, 2.86111111, 5.28333333, 1.92777778]), 2: array([5.42, 2.56, 4.09, 1.29]), 3: array([5.01666667, 3.56666667, 1.575     , 0.31666667]), 4: array([5.80714286, 2.77857143, 4.05      , 1.22857143]), 5: array([5.   , 2.3  , 3.275, 1.025]), 6: array([5.52857143, 4.04285714, 1.47142857, 0.28571429]), 7: array([4.7       , 3.10952381, 1.39047619, 0.2       ]), 8: array([6.23333333, 2.4       , 4.78333333, 1.58333333]), 9: array([7.064, 3.12 , 5.944, 2.156]), 10: array([5.27, 3.5 , 1.47, 0.23]), 11: array([6.03636364, 3.02727273, 4.68181818, 1.58181818])}\n",
      "centroids:  {0: array([6.66363636, 3.00909091, 4.62727273, 1.44545455]), 1: array([6.19047619, 2.90952381, 5.28571429, 1.97142857]), 2: array([5.42, 2.56, 4.09, 1.29]), 3: array([5.        , 3.53571429, 1.56428571, 0.3       ]), 4: array([5.80714286, 2.77857143, 4.05      , 1.22857143]), 5: array([5.   , 2.3  , 3.275, 1.025]), 6: array([5.52857143, 4.04285714, 1.47142857, 0.28571429]), 7: array([4.67894737, 3.08421053, 1.37894737, 0.2       ]), 8: array([6.23333333, 2.4       , 4.78333333, 1.58333333]), 9: array([7.11304348, 3.11304348, 5.99130435, 2.13913043]), 10: array([5.27, 3.5 , 1.47, 0.23]), 11: array([6.03636364, 3.02727273, 4.68181818, 1.58181818])}\n",
      "centroids:  {0: array([6.66363636, 3.00909091, 4.62727273, 1.44545455]), 1: array([6.275, 2.945, 5.34 , 2.04 ]), 2: array([5.42, 2.56, 4.09, 1.29]), 3: array([5.00666667, 3.53333333, 1.55333333, 0.3       ]), 4: array([5.80714286, 2.77857143, 4.05      , 1.22857143]), 5: array([5.   , 2.3  , 3.275, 1.025]), 6: array([5.52857143, 4.04285714, 1.47142857, 0.28571429]), 7: array([4.67894737, 3.08421053, 1.37894737, 0.2       ]), 8: array([6.2125, 2.4875, 4.8625, 1.575 ]), 9: array([7.15238095, 3.11904762, 6.04285714, 2.12857143]), 10: array([5.28888889, 3.5       , 1.47777778, 0.22222222]), 11: array([6.        , 3.00833333, 4.7       , 1.61666667])}\n",
      "centroids:  {0: array([6.66363636, 3.00909091, 4.62727273, 1.44545455]), 1: array([6.41818182, 2.99090909, 5.42727273, 2.11363636]), 2: array([5.42, 2.56, 4.09, 1.29]), 3: array([5.0125 , 3.525  , 1.55   , 0.29375]), 4: array([5.80714286, 2.77857143, 4.05      , 1.22857143]), 5: array([5.   , 2.3  , 3.275, 1.025]), 6: array([5.52857143, 4.04285714, 1.47142857, 0.28571429]), 7: array([4.67894737, 3.08421053, 1.37894737, 0.2       ]), 8: array([6.15, 2.5 , 4.95, 1.6 ]), 9: array([7.3    , 3.15625, 6.1625 , 2.1125 ]), 10: array([5.3125, 3.5125, 1.475 , 0.225 ]), 11: array([5.99230769, 3.00769231, 4.73076923, 1.63076923])}\n",
      "centroids:  {0: array([6.66363636, 3.00909091, 4.62727273, 1.44545455]), 1: array([6.5173913 , 3.05217391, 5.49130435, 2.15652174]), 2: array([5.42, 2.56, 4.09, 1.29]), 3: array([5.01764706, 3.52352941, 1.54117647, 0.28823529]), 4: array([5.80714286, 2.77857143, 4.05      , 1.22857143]), 5: array([5.   , 2.3  , 3.275, 1.025]), 6: array([5.52857143, 4.04285714, 1.47142857, 0.28571429]), 7: array([4.67894737, 3.08421053, 1.37894737, 0.2       ]), 8: array([6.09166667, 2.53333333, 4.975     , 1.65      ]), 9: array([7.42307692, 3.13076923, 6.26923077, 2.06923077]), 10: array([5.34285714, 3.51428571, 1.48571429, 0.22857143]), 11: array([5.99230769, 3.00769231, 4.73076923, 1.63076923])}\n",
      "centroids:  {0: array([6.66363636, 3.00909091, 4.62727273, 1.44545455]), 1: array([6.56086957, 3.06956522, 5.52608696, 2.15217391]), 2: array([5.42, 2.56, 4.09, 1.29]), 3: array([5.01764706, 3.52352941, 1.54117647, 0.28823529]), 4: array([5.80714286, 2.77857143, 4.05      , 1.22857143]), 5: array([5.   , 2.3  , 3.275, 1.025]), 6: array([5.52857143, 4.04285714, 1.47142857, 0.28571429]), 7: array([4.67894737, 3.08421053, 1.37894737, 0.2       ]), 8: array([6.06923077, 2.55384615, 4.98461538, 1.70769231]), 9: array([7.475, 3.125, 6.3  , 2.05 ]), 10: array([5.34285714, 3.51428571, 1.48571429, 0.22857143]), 11: array([5.99230769, 3.00769231, 4.73076923, 1.63076923])}\n",
      "centroids:  {0: array([6.66363636, 3.00909091, 4.62727273, 1.44545455]), 1: array([6.56818182, 3.08636364, 5.53636364, 2.16363636]), 2: array([5.42, 2.56, 4.09, 1.29]), 3: array([5.01764706, 3.52352941, 1.54117647, 0.28823529]), 4: array([5.84      , 2.74666667, 4.07333333, 1.23333333]), 5: array([5.   , 2.3  , 3.275, 1.025]), 6: array([5.52857143, 4.04285714, 1.47142857, 0.28571429]), 7: array([4.67894737, 3.08421053, 1.37894737, 0.2       ]), 8: array([6.07692308, 2.58461538, 5.05384615, 1.75384615]), 9: array([7.475, 3.125, 6.3  , 2.05 ]), 10: array([5.34285714, 3.51428571, 1.48571429, 0.22857143]), 11: array([5.99230769, 3.00769231, 4.73076923, 1.63076923])}\n",
      "centroids:  {0: array([6.66363636, 3.00909091, 4.62727273, 1.44545455]), 1: array([6.56818182, 3.08636364, 5.53636364, 2.16363636]), 2: array([5.42, 2.56, 4.09, 1.29]), 3: array([5.01764706, 3.52352941, 1.54117647, 0.28823529]), 4: array([5.84      , 2.74666667, 4.07333333, 1.23333333]), 5: array([5.   , 2.3  , 3.275, 1.025]), 6: array([5.52857143, 4.04285714, 1.47142857, 0.28571429]), 7: array([4.67894737, 3.08421053, 1.37894737, 0.2       ]), 8: array([6.04285714, 2.6       , 5.04285714, 1.77142857]), 9: array([7.475, 3.125, 6.3  , 2.05 ]), 10: array([5.34285714, 3.51428571, 1.48571429, 0.22857143]), 11: array([6.025     , 3.025     , 4.71666667, 1.6       ])}\n",
      "centroids:  {0: array([6.66363636, 3.00909091, 4.62727273, 1.44545455]), 1: array([6.56818182, 3.08636364, 5.53636364, 2.16363636]), 2: array([5.42, 2.56, 4.09, 1.29]), 3: array([5.01764706, 3.52352941, 1.54117647, 0.28823529]), 4: array([5.84      , 2.74666667, 4.07333333, 1.23333333]), 5: array([5.   , 2.3  , 3.275, 1.025]), 6: array([5.52857143, 4.04285714, 1.47142857, 0.28571429]), 7: array([4.67894737, 3.08421053, 1.37894737, 0.2       ]), 8: array([6.04375, 2.6375 , 5.03125, 1.775  ]), 9: array([7.475, 3.125, 6.3  , 2.05 ]), 10: array([5.34285714, 3.51428571, 1.48571429, 0.22857143]), 11: array([6.02, 3.05, 4.67, 1.56])}\n",
      "NO FURTHER UPDATE\n",
      "k= 12 sse= 24.77573675163847\n"
     ]
    }
   ],
   "source": [
    "nitr=200\n",
    "sses={}\n",
    "for k in range(1,13):                                                       #trying for different k value.\n",
    "    \n",
    "    centroids=get_random_centroids(k)\n",
    "    old_centroids={}\n",
    "    \n",
    "    for i in range(nitr):\n",
    "        clusters={}\n",
    "        for ik,iv in centroids.items():\n",
    "            clusters[ik]=[]\n",
    "\n",
    "        print('centroids: ',centroids)\n",
    "        \n",
    "        for xx in x:\n",
    "            dists=[e_dist(xx,v) for k,v in centroids.items() ] #k distance from k centroid.\n",
    "            closest=dists.index( min(dists) )\n",
    "            clusters[closest].append(xx)\n",
    "\n",
    "            \n",
    "        for ik in range(k):\n",
    "            old_centroids[ik]=centroids[ik].copy()\n",
    "            \n",
    "            \n",
    "        #update centroids.\n",
    "        nc={}\n",
    "        for ik in range(k):\n",
    "            avg_c=np.array(clusters[ik]).mean(axis=0)\n",
    "            nc[ik]=avg_c  #average.\n",
    "            centroids[ik]=avg_c\n",
    "            \n",
    "            \n",
    "\n",
    "        #checking centroids update.\n",
    "        nupdate=0\n",
    "        for ik in range(k):\n",
    "            if e_dist( centroids[ik], old_centroids[ik] ) > 0:\n",
    "                nupdate+=1\n",
    "        if nupdate==0:\n",
    "            print('NO FURTHER UPDATE')\n",
    "            break\n",
    "            \n",
    "            \n",
    "    sse=0               # Sum of Squared Error\n",
    "    for cluster,centroid in zip(clusters.values() ,centroids.values()):\n",
    "        for xx in cluster:\n",
    "            d=e_dist(xx, centroid)\n",
    "            sse+=d*d\n",
    "    print('k=',k, 'sse=',sse)\n",
    "    sses[k]=sse\n",
    "    \n",
    "    "
   ]
  },
  {
   "cell_type": "code",
   "execution_count": 16,
   "metadata": {},
   "outputs": [
    {
     "data": {
      "text/plain": [
       "{1: 681.3706000000001,\n",
       " 2: 152.34795176035803,\n",
       " 3: 78.85566582597723,\n",
       " 4: 57.25600931571812,\n",
       " 5: 50.29194634927386,\n",
       " 6: 39.054977867477895,\n",
       " 7: 37.390833490181336,\n",
       " 8: 36.04938888888891,\n",
       " 9: 31.350765740107857,\n",
       " 10: 30.142467793902007,\n",
       " 11: 25.21508792377213,\n",
       " 12: 24.77573675163847}"
      ]
     },
     "execution_count": 16,
     "metadata": {},
     "output_type": "execute_result"
    }
   ],
   "source": [
    "sses"
   ]
  },
  {
   "cell_type": "code",
   "execution_count": 17,
   "metadata": {},
   "outputs": [
    {
     "name": "stdout",
     "output_type": "stream",
     "text": [
      "[1, 2, 3, 4, 5, 6, 7, 8, 9, 10, 11, 12]\n"
     ]
    }
   ],
   "source": [
    "ks=[i+1 for i in range(len(sses.values()))]\n",
    "print(ks)"
   ]
  },
  {
   "cell_type": "code",
   "execution_count": 18,
   "metadata": {},
   "outputs": [
    {
     "data": {
      "image/png": "[encoded data removed]",
      "text/plain": [
       "<Figure size 432x288 with 1 Axes>"
      ]
     },
     "metadata": {
      "needs_background": "light"
     },
     "output_type": "display_data"
    }
   ],
   "source": [
    "plt.plot(ks, sses.values())\n",
    "plt.title('K vs SSE')\n",
    "plt.show()"
   ]
  }
 ],
 "metadata": {
  "kernelspec": {
   "display_name": "Python 3",
   "language": "python",
   "name": "python3"
  },
  "language_info": {
   "codemirror_mode": {
    "name": "ipython",
    "version": 3
   },
   "file_extension": ".py",
   "mimetype": "text/x-python",
   "name": "python",
   "nbconvert_exporter": "python",
   "pygments_lexer": "ipython3",
   "version": "3.7.1"
  }
 },
 "nbformat": 4,
 "nbformat_minor": 2
}
