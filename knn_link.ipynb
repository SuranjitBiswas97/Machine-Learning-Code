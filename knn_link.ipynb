{
 "cells": [
  {
   "cell_type": "code",
   "execution_count": 40,
   "metadata": {},
   "outputs": [],
   "source": [
    "import numpy as np\n",
    "from sklearn.model_selection import train_test_split             \n",
    "from sklearn import datasets\n",
    "from collections import Counter"
   ]
  },
  {
   "cell_type": "code",
   "execution_count": 41,
   "metadata": {},
   "outputs": [],
   "source": [
    "iris = datasets.load_iris() \n",
    "X = iris.data\n",
    "y = iris.target\n",
    "names = iris.target_names"
   ]
  },
  {
   "cell_type": "code",
   "execution_count": 42,
   "metadata": {},
   "outputs": [
    {
     "name": "stdout",
     "output_type": "stream",
     "text": [
      "[[5.1 3.5 1.4 0.2]\n",
      " [4.9 3.  1.4 0.2]\n",
      " [4.7 3.2 1.3 0.2]\n",
      " [4.6 3.1 1.5 0.2]\n",
      " [5.  3.6 1.4 0.2]\n",
      " [5.4 3.9 1.7 0.4]\n",
      " [4.6 3.4 1.4 0.3]\n",
      " [5.  3.4 1.5 0.2]\n",
      " [4.4 2.9 1.4 0.2]\n",
      " [4.9 3.1 1.5 0.1]]\n",
      "[0 0 0 0 0 0 0 0 0 0 0 0 0 0 0 0 0 0 0 0 0 0 0 0 0 0 0 0 0 0]\n",
      "['setosa' 'versicolor' 'virginica']\n"
     ]
    }
   ],
   "source": [
    "print(X[:10])\n",
    "print(y[:30])\n",
    "print(names)"
   ]
  },
  {
   "cell_type": "code",
   "execution_count": 43,
   "metadata": {},
   "outputs": [],
   "source": [
    "x_train,x_test,y_train,y_test=train_test_split(X,y,test_size=0.4)"
   ]
  },
  {
   "cell_type": "code",
   "execution_count": 44,
   "metadata": {},
   "outputs": [
    {
     "name": "stdout",
     "output_type": "stream",
     "text": [
      "90\n",
      "60\n",
      "90\n",
      "60\n"
     ]
    }
   ],
   "source": [
    "print(len(x_train))\n",
    "print(len(x_test))\n",
    "print(len(y_train))\n",
    "print(len(y_test))\n",
    "#print(x_test[:10])"
   ]
  },
  {
   "cell_type": "code",
   "execution_count": 45,
   "metadata": {},
   "outputs": [],
   "source": [
    "def euclidean(x, x2):\n",
    "    sum=0\n",
    "    for ix,ix2 in zip(x,x2):\n",
    "        sum+=(ix-ix2)**2\n",
    "    return np.sqrt(sum)"
   ]
  },
  {
   "cell_type": "code",
   "execution_count": 46,
   "metadata": {},
   "outputs": [],
   "source": [
    "#euclidean([0,0], [3,4])"
   ]
  },
  {
   "cell_type": "code",
   "execution_count": 47,
   "metadata": {},
   "outputs": [],
   "source": [
    "xt=[6.1, 3., 5.2, 1.5]"
   ]
  },
  {
   "cell_type": "code",
   "execution_count": 48,
   "metadata": {},
   "outputs": [],
   "source": [
    "dist={}\n",
    "for i, x in enumerate(x_train):\n",
    "    ed=euclidean(x, xt)\n",
    "    dist[i]=ed\n"
   ]
  },
  {
   "cell_type": "code",
   "execution_count": 49,
   "metadata": {},
   "outputs": [],
   "source": [
    "#print(dist)"
   ]
  },
  {
   "cell_type": "code",
   "execution_count": 50,
   "metadata": {},
   "outputs": [],
   "source": [
    "sorted_d = sorted(dist.items(), key=lambda kv: kv[1])"
   ]
  },
  {
   "cell_type": "code",
   "execution_count": 51,
   "metadata": {
    "scrolled": true
   },
   "outputs": [
    {
     "name": "stdout",
     "output_type": "stream",
     "text": [
      "[(12, 0.30000000000000043), (46, 0.37416573867739394), (85, 0.5099019513592787), (33, 0.5196152422706632), (8, 0.5291502622129185), (42, 0.5477225575051665), (50, 0.5744562646538024), (60, 0.574456264653803), (34, 0.5916079783099615), (37, 0.5916079783099615), (58, 0.5916079783099618), (71, 0.6082762530298225), (11, 0.6164414002968976), (89, 0.6164414002968978), (57, 0.6244997998398398), (20, 0.6782329983125271), (61, 0.7141428428542852), (55, 0.7483314773547889), (70, 0.7874007874011815), (72, 0.7874007874011816), (69, 0.7937253933193772), (24, 0.806225774829855), (84, 0.8124038404635964), (19, 0.8602325267042632), (14, 0.8831760866327848), (21, 0.8831760866327849), (23, 0.9219544457292886), (0, 0.9327379053088819), (78, 0.9486832980505137), (10, 0.9746794344808963), (43, 0.9746794344808969), (38, 0.9899494936611661), (6, 1.0198039027185568), (64, 1.0295630140987004), (73, 1.053565375285274), (77, 1.0816653826391966), (79, 1.0999999999999999), (16, 1.1), (80, 1.1180339887498945), (18, 1.1575836902790226), (39, 1.174734012447073), (54, 1.2247448713915896), (13, 1.2328828005937955), (5, 1.2529964086141672), (67, 1.30384048104053), (48, 1.330413469565007), (27, 1.3341664064126335), (76, 1.3601470508735445), (4, 1.4000000000000001), (49, 1.445683229480096), (63, 1.4899664425751336), (87, 1.6583123951776997), (1, 1.685229954635272), (35, 1.6911534525287764), (3, 1.8384776310850237), (25, 2.0024984394500787), (26, 2.1377558326431947), (53, 2.2583179581272432), (44, 2.3130067012440754), (66, 2.3790754506740637), (41, 2.4372115213907883), (40, 2.5), (83, 2.5000000000000004), (74, 3.706750598570128), (68, 3.7868192457522976), (29, 3.798683982644516), (9, 3.8196858509568554), (62, 3.9420806688854046), (45, 4.044749683231337), (30, 4.054626986542659), (51, 4.0669398815325515), (59, 4.092676385936225), (81, 4.095119045888654), (52, 4.135214625627067), (65, 4.135214625627067), (31, 4.168932717135166), (7, 4.174925149029621), (28, 4.20356991139674), (86, 4.207136793592526), (75, 4.253234063627348), (32, 4.255584566190643), (17, 4.27668095606862), (88, 4.291852746774987), (56, 4.3335897360040905), (22, 4.347413023856832), (47, 4.352011029397789), (36, 4.43846820423443), (82, 4.448595283907045), (2, 4.684015371452148), (15, 4.69148164229596)]\n"
     ]
    }
   ],
   "source": [
    "print(sorted_d)"
   ]
  },
  {
   "cell_type": "code",
   "execution_count": 52,
   "metadata": {},
   "outputs": [
    {
     "name": "stdout",
     "output_type": "stream",
     "text": [
      "[12, 46, 85, 33, 8, 42, 50, 60, 34, 37, 58, 71, 11, 89, 57, 20, 61, 55, 70, 72, 69, 24, 84, 19, 14, 21, 23, 0, 78, 10, 43, 38, 6, 64, 73, 77, 79, 16, 80, 18, 39, 54, 13, 5, 67, 48, 27, 76, 4, 49, 63, 87, 1, 35, 3, 25, 26, 53, 44, 66, 41, 40, 83, 74, 68, 29, 9, 62, 45, 30, 51, 59, 81, 52, 65, 31, 7, 28, 86, 75, 32, 17, 88, 56, 22, 47, 36, 82, 2, 15]\n"
     ]
    }
   ],
   "source": [
    "k=90\n",
    "neighbors=[]\n",
    "for i in range(k):\n",
    "    neighbors.append(sorted_d[i][0])\n",
    "print(neighbors)"
   ]
  },
  {
   "cell_type": "code",
   "execution_count": 53,
   "metadata": {},
   "outputs": [
    {
     "name": "stdout",
     "output_type": "stream",
     "text": [
      "[2, 2, 2, 1, 2, 2, 2, 1, 2, 2, 2, 1, 1, 1, 1, 2, 1, 1, 1, 1, 2, 2, 1, 1, 2, 2, 2, 1, 1, 2, 1, 1, 1, 2, 1, 2, 1, 1, 1, 2, 1, 1, 1, 2, 2, 2, 1, 2, 1, 1, 2, 2, 1, 1, 2, 2, 2, 2, 1, 1, 2, 1, 2, 0, 0, 0, 0, 0, 0, 0, 0, 0, 0, 0, 0, 0, 0, 0, 0, 0, 0, 0, 0, 0, 0, 0, 0, 0, 0, 0]\n"
     ]
    }
   ],
   "source": [
    "classes=[ y_train[i] for i in neighbors]\n",
    "print(classes)"
   ]
  },
  {
   "cell_type": "code",
   "execution_count": 54,
   "metadata": {},
   "outputs": [
    {
     "name": "stdout",
     "output_type": "stream",
     "text": [
      "Counter({1: 32, 2: 31, 0: 27})\n"
     ]
    }
   ],
   "source": [
    "count=Counter(classes)\n",
    "print(count)"
   ]
  },
  {
   "cell_type": "code",
   "execution_count": 55,
   "metadata": {},
   "outputs": [
    {
     "name": "stdout",
     "output_type": "stream",
     "text": [
      "keys= [2, 1, 0]\n",
      "values= [31, 32, 27]\n"
     ]
    }
   ],
   "source": [
    "keys= list( count.keys() )\n",
    "print('keys=', keys)\n",
    "values=list( count.values() )\n",
    "print('values=',values)"
   ]
  },
  {
   "cell_type": "code",
   "execution_count": 56,
   "metadata": {},
   "outputs": [
    {
     "name": "stdout",
     "output_type": "stream",
     "text": [
      "index of max value= 1\n",
      "predict class= 1\n"
     ]
    }
   ],
   "source": [
    "index_of_max_values=values.index(max(values)) \n",
    "print('index of max value=', index_of_max_values)\n",
    "y_hat=keys[index_of_max_values]\n",
    "print('predict class=',y_hat)"
   ]
  },
  {
   "cell_type": "code",
   "execution_count": null,
   "metadata": {},
   "outputs": [],
   "source": []
  },
  {
   "cell_type": "code",
   "execution_count": null,
   "metadata": {},
   "outputs": [],
   "source": []
  },
  {
   "cell_type": "code",
   "execution_count": null,
   "metadata": {},
   "outputs": [],
   "source": []
  },
  {
   "cell_type": "code",
   "execution_count": null,
   "metadata": {},
   "outputs": [],
   "source": []
  },
  {
   "cell_type": "code",
   "execution_count": null,
   "metadata": {},
   "outputs": [],
   "source": []
  },
  {
   "cell_type": "code",
   "execution_count": null,
   "metadata": {},
   "outputs": [],
   "source": []
  }
 ],
 "metadata": {
  "kernelspec": {
   "display_name": "Python 3",
   "language": "python",
   "name": "python3"
  },
  "language_info": {
   "codemirror_mode": {
    "name": "ipython",
    "version": 3
   },
   "file_extension": ".py",
   "mimetype": "text/x-python",
   "name": "python",
   "nbconvert_exporter": "python",
   "pygments_lexer": "ipython3",
   "version": "3.7.1"
  }
 },
 "nbformat": 4,
 "nbformat_minor": 2
}
